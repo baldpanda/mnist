{
  "nbformat": 4,
  "nbformat_minor": 0,
  "metadata": {
    "colab": {
      "name": "mnist.ipynb",
      "version": "0.3.2",
      "provenance": [],
      "collapsed_sections": [],
      "include_colab_link": true
    },
    "kernelspec": {
      "name": "python3",
      "display_name": "Python 3"
    },
    "accelerator": "GPU"
  },
  "cells": [
    {
      "cell_type": "markdown",
      "metadata": {
        "id": "view-in-github",
        "colab_type": "text"
      },
      "source": [
        "<a href=\"https://colab.research.google.com/github/baldpanda/mnist/blob/experimenting-with-notebook/mnist.ipynb\" target=\"_parent\"><img src=\"https://colab.research.google.com/assets/colab-badge.svg\" alt=\"Open In Colab\"/></a>"
      ]
    },
    {
      "metadata": {
        "id": "x0c4zyAjAAif",
        "colab_type": "text"
      },
      "cell_type": "markdown",
      "source": [
        "# Learning TensorFlow and Keras- MNIST"
      ]
    },
    {
      "metadata": {
        "id": "BnlRaM4-cn1t",
        "colab_type": "text"
      },
      "cell_type": "markdown",
      "source": [
        "Taking the learnings from the Introduction to TensorFlow for AI, ML, and Deep Learning on Coursera and experimenting with them on the MNIST dataset. "
      ]
    },
    {
      "metadata": {
        "id": "U0-vHu17dPrU",
        "colab_type": "text"
      },
      "cell_type": "markdown",
      "source": [
        "**Note** - Collab gives the option of running notebook on GPU enabled machine. This seems to speed up training significantly."
      ]
    },
    {
      "metadata": {
        "id": "Mbpd_nu6piHS",
        "colab_type": "code",
        "outputId": "50cd31b0-1a2a-4cd1-a8df-b9ef32bbe4ff",
        "colab": {
          "base_uri": "https://localhost:8080/",
          "height": 34
        }
      },
      "cell_type": "code",
      "source": [
        "import tensorflow as tf\n",
        "import matplotlib.pyplot as plt\n",
        "import numpy as np\n",
        "import random\n",
        "from google.colab import drive\n",
        "from PIL import Image\n",
        "print(tf.VERSION)"
      ],
      "execution_count": 1,
      "outputs": [
        {
          "output_type": "stream",
          "text": [
            "1.13.1\n"
          ],
          "name": "stdout"
        }
      ]
    },
    {
      "metadata": {
        "id": "ZVszehuXrrEW",
        "colab_type": "code",
        "colab": {}
      },
      "cell_type": "code",
      "source": [
        "random.seed(42)"
      ],
      "execution_count": 0,
      "outputs": []
    },
    {
      "metadata": {
        "id": "G0fbZPLNulco",
        "colab_type": "text"
      },
      "cell_type": "markdown",
      "source": [
        "Keras comes with a number of inbuilt datasets. These include:\n",
        "\n",
        "*   CIFAR10 AND CIFAR100 image classification (50,000 images with 10 and 100 different classes respectively)\n",
        "*   MNIST\n",
        "*   Fashion MNIST\n",
        "*   Boston Housing Regression Dataset\n",
        "\n",
        "\n"
      ]
    },
    {
      "metadata": {
        "id": "Mzu96hilqJry",
        "colab_type": "code",
        "colab": {}
      },
      "cell_type": "code",
      "source": [
        "mnist = tf.keras.datasets.mnist"
      ],
      "execution_count": 0,
      "outputs": []
    },
    {
      "metadata": {
        "id": "4jySI0XHvfyX",
        "colab_type": "code",
        "outputId": "53b5bd88-d08c-45ee-d9dc-22adaca0bc1d",
        "colab": {
          "base_uri": "https://localhost:8080/",
          "height": 51
        }
      },
      "cell_type": "code",
      "source": [
        "(X_train, y_train), (X_test, y_test) = mnist.load_data()"
      ],
      "execution_count": 4,
      "outputs": [
        {
          "output_type": "stream",
          "text": [
            "Downloading data from https://storage.googleapis.com/tensorflow/tf-keras-datasets/mnist.npz\n",
            "11493376/11490434 [==============================] - 0s 0us/step\n"
          ],
          "name": "stdout"
        }
      ]
    },
    {
      "metadata": {
        "id": "GeBmOw7wv0Id",
        "colab_type": "code",
        "outputId": "39f3355f-9423-4ccd-c393-034ed49ea803",
        "colab": {
          "base_uri": "https://localhost:8080/",
          "height": 34
        }
      },
      "cell_type": "code",
      "source": [
        "print('The training data has shape: {}.'.format(X_train.shape))"
      ],
      "execution_count": 5,
      "outputs": [
        {
          "output_type": "stream",
          "text": [
            "The training data has shape: (60000, 28, 28).\n"
          ],
          "name": "stdout"
        }
      ]
    },
    {
      "metadata": {
        "id": "E9zpKKfgv9xV",
        "colab_type": "code",
        "outputId": "5c039cb6-7530-4b4a-9f48-5d1427f05960",
        "colab": {
          "base_uri": "https://localhost:8080/",
          "height": 34
        }
      },
      "cell_type": "code",
      "source": [
        "print('The testing data has size: {}.'.format(X_test.shape[0]))"
      ],
      "execution_count": 6,
      "outputs": [
        {
          "output_type": "stream",
          "text": [
            "The testing data has size: 10000.\n"
          ],
          "name": "stdout"
        }
      ]
    },
    {
      "metadata": {
        "id": "_HBwTl3UXByI",
        "colab_type": "text"
      },
      "cell_type": "markdown",
      "source": [
        "Plotting an image from the training data sampled at random."
      ]
    },
    {
      "metadata": {
        "id": "3q4PwBWp4WeW",
        "colab_type": "code",
        "outputId": "90f16392-6188-48c5-fbaa-4ec9675286b8",
        "colab": {
          "base_uri": "https://localhost:8080/",
          "height": 281
        }
      },
      "cell_type": "code",
      "source": [
        "number_to_plot = random.randint(0,X_train.shape[0])\n",
        "plt.title(\"Image label: {}\".format(y_train[number_to_plot]))\n",
        "plt.imshow(X_train[number_to_plot])\n",
        "plt.show()"
      ],
      "execution_count": 7,
      "outputs": [
        {
          "output_type": "display_data",
          "data": {
            "image/png": "[encoded data removed]",
            "text/plain": [
              "<Figure size 432x288 with 1 Axes>"
            ]
          },
          "metadata": {
            "tags": []
          }
        }
      ]
    },
    {
      "metadata": {
        "id": "jSYhuzWvlD_m",
        "colab_type": "code",
        "outputId": "dc575197-007e-4bf2-a49c-93ea5e1b807f",
        "colab": {
          "base_uri": "https://localhost:8080/",
          "height": 34
        }
      },
      "cell_type": "code",
      "source": [
        "X_train[number_to_plot].shape"
      ],
      "execution_count": 8,
      "outputs": [
        {
          "output_type": "execute_result",
          "data": {
            "text/plain": [
              "(28, 28)"
            ]
          },
          "metadata": {
            "tags": []
          },
          "execution_count": 8
        }
      ]
    },
    {
      "metadata": {
        "id": "YKllN4s2wnlP",
        "colab_type": "text"
      },
      "cell_type": "markdown",
      "source": [
        "Normalising the data "
      ]
    },
    {
      "metadata": {
        "id": "ZkAzH_Hux_gc",
        "colab_type": "code",
        "colab": {}
      },
      "cell_type": "code",
      "source": [
        "X_train = X_train / 255.0\n",
        "X_test = X_test / 255.0"
      ],
      "execution_count": 0,
      "outputs": []
    },
    {
      "metadata": {
        "id": "mGeKryvBY_p_",
        "colab_type": "text"
      },
      "cell_type": "markdown",
      "source": [
        "# Building a fully connected neural network and fitting on the training data"
      ]
    },
    {
      "metadata": {
        "id": "pmq3msBQwxng",
        "colab_type": "code",
        "colab": {}
      },
      "cell_type": "code",
      "source": [
        "model = tf.keras.Sequential([\n",
        "    tf.keras.layers.Flatten(),\n",
        "    tf.keras.layers.Dense(128, activation = tf.nn.relu),\n",
        "    tf.keras.layers.Dense(10, activation = tf.nn.softmax)\n",
        "])"
      ],
      "execution_count": 0,
      "outputs": []
    },
    {
      "metadata": {
        "id": "69Buq1OyxRsL",
        "colab_type": "code",
        "outputId": "718b71c7-def0-4970-8782-8c52b85c8cca",
        "colab": {
          "base_uri": "https://localhost:8080/",
          "height": 88
        }
      },
      "cell_type": "code",
      "source": [
        "model.compile(optimizer=tf.train.AdamOptimizer(),\n",
        "             loss='sparse_categorical_crossentropy',\n",
        "             metrics=['accuracy'])"
      ],
      "execution_count": 11,
      "outputs": [
        {
          "output_type": "stream",
          "text": [
            "WARNING:tensorflow:From /usr/local/lib/python3.6/dist-packages/tensorflow/python/ops/resource_variable_ops.py:435: colocate_with (from tensorflow.python.framework.ops) is deprecated and will be removed in a future version.\n",
            "Instructions for updating:\n",
            "Colocations handled automatically by placer.\n"
          ],
          "name": "stdout"
        }
      ]
    },
    {
      "metadata": {
        "id": "NNVzXsmvxT1Y",
        "colab_type": "code",
        "outputId": "8b81c015-de08-4f0f-daa8-85861e8520b1",
        "colab": {
          "base_uri": "https://localhost:8080/",
          "height": 204
        }
      },
      "cell_type": "code",
      "source": [
        "model.fit(X_train, y_train, epochs=5)"
      ],
      "execution_count": 12,
      "outputs": [
        {
          "output_type": "stream",
          "text": [
            "Epoch 1/5\n",
            "60000/60000 [==============================] - 5s 81us/sample - loss: 0.2562 - acc: 0.9261\n",
            "Epoch 2/5\n",
            "60000/60000 [==============================] - 4s 67us/sample - loss: 0.1135 - acc: 0.9663\n",
            "Epoch 3/5\n",
            "60000/60000 [==============================] - 4s 68us/sample - loss: 0.0788 - acc: 0.9765\n",
            "Epoch 4/5\n",
            "60000/60000 [==============================] - 4s 69us/sample - loss: 0.0592 - acc: 0.9818\n",
            "Epoch 5/5\n",
            "60000/60000 [==============================] - 5s 79us/sample - loss: 0.0451 - acc: 0.9859\n"
          ],
          "name": "stdout"
        },
        {
          "output_type": "execute_result",
          "data": {
            "text/plain": [
              "<tensorflow.python.keras.callbacks.History at 0x7fd722eb4c18>"
            ]
          },
          "metadata": {
            "tags": []
          },
          "execution_count": 12
        }
      ]
    },
    {
      "metadata": {
        "id": "WjQrfs1vCnhd",
        "colab_type": "code",
        "outputId": "fd4756f4-56cf-4446-8d05-5712e5c5bbef",
        "colab": {
          "base_uri": "https://localhost:8080/",
          "height": 238
        }
      },
      "cell_type": "code",
      "source": [
        "model.summary()"
      ],
      "execution_count": 13,
      "outputs": [
        {
          "output_type": "stream",
          "text": [
            "_________________________________________________________________\n",
            "Layer (type)                 Output Shape              Param #   \n",
            "=================================================================\n",
            "flatten (Flatten)            multiple                  0         \n",
            "_________________________________________________________________\n",
            "dense (Dense)                multiple                  100480    \n",
            "_________________________________________________________________\n",
            "dense_1 (Dense)              multiple                  1290      \n",
            "=================================================================\n",
            "Total params: 101,770\n",
            "Trainable params: 101,770\n",
            "Non-trainable params: 0\n",
            "_________________________________________________________________\n"
          ],
          "name": "stdout"
        }
      ]
    },
    {
      "metadata": {
        "id": "cmnFC9lvy3s2",
        "colab_type": "code",
        "outputId": "999560e1-732b-47ba-f91c-a4a661ff262f",
        "colab": {
          "base_uri": "https://localhost:8080/",
          "height": 51
        }
      },
      "cell_type": "code",
      "source": [
        "model.evaluate(X_test, y_test)"
      ],
      "execution_count": 14,
      "outputs": [
        {
          "output_type": "stream",
          "text": [
            "10000/10000 [==============================] - 1s 60us/sample - loss: 0.0804 - acc: 0.9760\n"
          ],
          "name": "stdout"
        },
        {
          "output_type": "execute_result",
          "data": {
            "text/plain": [
              "[0.080411409126129, 0.976]"
            ]
          },
          "metadata": {
            "tags": []
          },
          "execution_count": 14
        }
      ]
    },
    {
      "metadata": {
        "id": "HXHE-6AqzH9H",
        "colab_type": "text"
      },
      "cell_type": "markdown",
      "source": [
        "Building a basic 2 layer fully connected NN that achieves 97.8% accuracy on the test data. "
      ]
    },
    {
      "metadata": {
        "id": "7U314rfgAQW-",
        "colab_type": "text"
      },
      "cell_type": "markdown",
      "source": [
        "Adding callback function, which stops training once the model achieves an accuracy of xx.x% on the training data and adding an extra layer to the NN."
      ]
    },
    {
      "metadata": {
        "id": "OyVkZHZa_90n",
        "colab_type": "code",
        "colab": {}
      },
      "cell_type": "code",
      "source": [
        "class myCallback(tf.keras.callbacks.Callback):  \n",
        "  def on_epoch_end(self, epoch, logs={}):\n",
        "    if logs.get('acc') > 0.999:\n",
        "      print(\"\\nYou've exceded an accuracy of 99.9%\")\n",
        "      self.model.stop_training = True  "
      ],
      "execution_count": 0,
      "outputs": []
    },
    {
      "metadata": {
        "id": "aDgez5U4Bhr6",
        "colab_type": "code",
        "colab": {}
      },
      "cell_type": "code",
      "source": [
        "callbacks = myCallback()"
      ],
      "execution_count": 0,
      "outputs": []
    },
    {
      "metadata": {
        "id": "YpLEKg4ABnqi",
        "colab_type": "code",
        "colab": {}
      },
      "cell_type": "code",
      "source": [
        "two_layer_network = tf.keras.Sequential([\n",
        "    tf.keras.layers.Flatten(),\n",
        "    tf.keras.layers.Dense(512, activation=\"relu\"),\n",
        "    tf.keras.layers.Dense(128, activation=\"relu\"),\n",
        "    tf.keras.layers.Dense(10, activation=\"softmax\")\n",
        "])"
      ],
      "execution_count": 0,
      "outputs": []
    },
    {
      "metadata": {
        "id": "X0K6n_TxCjQp",
        "colab_type": "code",
        "colab": {}
      },
      "cell_type": "code",
      "source": [
        "two_layer_network.compile(optimizer=tf.train.AdamOptimizer(),\n",
        "                         loss='sparse_categorical_crossentropy',\n",
        "                         metrics=['accuracy'])"
      ],
      "execution_count": 0,
      "outputs": []
    },
    {
      "metadata": {
        "id": "ZqEsxwbDDUvL",
        "colab_type": "code",
        "outputId": "6aa51609-e13c-4b78-94f4-04dfca1524e6",
        "colab": {
          "base_uri": "https://localhost:8080/",
          "height": 374
        }
      },
      "cell_type": "code",
      "source": [
        "two_layer_network.fit(X_train, y_train, epochs=10, callbacks=[callbacks])"
      ],
      "execution_count": 19,
      "outputs": [
        {
          "output_type": "stream",
          "text": [
            "Epoch 1/10\n",
            "60000/60000 [==============================] - 5s 85us/sample - loss: 0.1897 - acc: 0.9430\n",
            "Epoch 2/10\n",
            "60000/60000 [==============================] - 5s 75us/sample - loss: 0.0807 - acc: 0.9747\n",
            "Epoch 3/10\n",
            "60000/60000 [==============================] - 5s 76us/sample - loss: 0.0542 - acc: 0.9829\n",
            "Epoch 4/10\n",
            "60000/60000 [==============================] - 4s 75us/sample - loss: 0.0415 - acc: 0.9862\n",
            "Epoch 5/10\n",
            "60000/60000 [==============================] - 5s 75us/sample - loss: 0.0315 - acc: 0.9898\n",
            "Epoch 6/10\n",
            "60000/60000 [==============================] - 5s 82us/sample - loss: 0.0272 - acc: 0.9911\n",
            "Epoch 7/10\n",
            "60000/60000 [==============================] - 5s 85us/sample - loss: 0.0210 - acc: 0.9931\n",
            "Epoch 8/10\n",
            "60000/60000 [==============================] - 5s 76us/sample - loss: 0.0207 - acc: 0.9931\n",
            "Epoch 9/10\n",
            "60000/60000 [==============================] - 4s 75us/sample - loss: 0.0160 - acc: 0.9947\n",
            "Epoch 10/10\n",
            "60000/60000 [==============================] - 4s 74us/sample - loss: 0.0176 - acc: 0.9944\n"
          ],
          "name": "stdout"
        },
        {
          "output_type": "execute_result",
          "data": {
            "text/plain": [
              "<tensorflow.python.keras.callbacks.History at 0x7fd7162bacf8>"
            ]
          },
          "metadata": {
            "tags": []
          },
          "execution_count": 19
        }
      ]
    },
    {
      "metadata": {
        "id": "dWiZqeXdDcy0",
        "colab_type": "code",
        "colab": {}
      },
      "cell_type": "code",
      "source": [
        "X_train = X_train.reshape(60000, 28, 28, 1)\n",
        "X_test = X_test.reshape(10000, 28, 28, 1)"
      ],
      "execution_count": 0,
      "outputs": []
    },
    {
      "metadata": {
        "id": "AfTTSMBFZXhc",
        "colab_type": "text"
      },
      "cell_type": "markdown",
      "source": [
        "# Convolutional Neural Network"
      ]
    },
    {
      "metadata": {
        "id": "E7KLdb04jFTg",
        "colab_type": "code",
        "colab": {}
      },
      "cell_type": "code",
      "source": [
        "cnn_model = tf.keras.Sequential([\n",
        "    tf.keras.layers.Conv2D(64, (3, 3), activation=\"relu\", input_shape=(28, 28, 1)),\n",
        "    tf.keras.layers.MaxPooling2D((2, 2)),\n",
        "    tf.keras.layers.Conv2D(64, (3, 3), activation=\"relu\"),\n",
        "    tf.keras.layers.MaxPooling2D((2, 2)),\n",
        "    tf.keras.layers.Flatten(),\n",
        "    tf.keras.layers.Dense(128, activation=\"relu\"),\n",
        "    tf.keras.layers.Dense(10, activation=\"softmax\")\n",
        "])"
      ],
      "execution_count": 0,
      "outputs": []
    },
    {
      "metadata": {
        "id": "pVC75YlVkYgf",
        "colab_type": "code",
        "colab": {}
      },
      "cell_type": "code",
      "source": [
        "cnn_model.compile(optimizer=\"adam\", loss=\"sparse_categorical_crossentropy\", metrics=[\"accuracy\"])"
      ],
      "execution_count": 0,
      "outputs": []
    },
    {
      "metadata": {
        "id": "4OOtjP4_k3l2",
        "colab_type": "code",
        "outputId": "14eb2e7c-2d7f-4583-c8f8-94ac12c9b640",
        "colab": {
          "base_uri": "https://localhost:8080/",
          "height": 544
        }
      },
      "cell_type": "code",
      "source": [
        "\n",
        "cnn_model.fit(X_train, y_train, epochs=15, callbacks=[callbacks])"
      ],
      "execution_count": 23,
      "outputs": [
        {
          "output_type": "stream",
          "text": [
            "Epoch 1/15\n",
            "60000/60000 [==============================] - 10s 169us/sample - loss: 0.1218 - acc: 0.9622\n",
            "Epoch 2/15\n",
            "60000/60000 [==============================] - 7s 125us/sample - loss: 0.0432 - acc: 0.9863\n",
            "Epoch 3/15\n",
            "60000/60000 [==============================] - 7s 123us/sample - loss: 0.0288 - acc: 0.9907\n",
            "Epoch 4/15\n",
            "60000/60000 [==============================] - 7s 124us/sample - loss: 0.0210 - acc: 0.9931\n",
            "Epoch 5/15\n",
            "60000/60000 [==============================] - 7s 124us/sample - loss: 0.0156 - acc: 0.9951\n",
            "Epoch 6/15\n",
            "60000/60000 [==============================] - 7s 124us/sample - loss: 0.0131 - acc: 0.9959\n",
            "Epoch 7/15\n",
            "60000/60000 [==============================] - 7s 123us/sample - loss: 0.0103 - acc: 0.9967\n",
            "Epoch 8/15\n",
            "60000/60000 [==============================] - 8s 135us/sample - loss: 0.0086 - acc: 0.9972\n",
            "Epoch 9/15\n",
            "60000/60000 [==============================] - 8s 133us/sample - loss: 0.0078 - acc: 0.9974\n",
            "Epoch 10/15\n",
            "60000/60000 [==============================] - 7s 123us/sample - loss: 0.0063 - acc: 0.9980\n",
            "Epoch 11/15\n",
            "60000/60000 [==============================] - 7s 123us/sample - loss: 0.0074 - acc: 0.9975\n",
            "Epoch 12/15\n",
            "60000/60000 [==============================] - 7s 123us/sample - loss: 0.0053 - acc: 0.9982\n",
            "Epoch 13/15\n",
            "60000/60000 [==============================] - 7s 123us/sample - loss: 0.0047 - acc: 0.9986\n",
            "Epoch 14/15\n",
            "60000/60000 [==============================] - 7s 124us/sample - loss: 0.0054 - acc: 0.9983\n",
            "Epoch 15/15\n",
            "60000/60000 [==============================] - 7s 123us/sample - loss: 0.0035 - acc: 0.9989\n"
          ],
          "name": "stdout"
        },
        {
          "output_type": "execute_result",
          "data": {
            "text/plain": [
              "<tensorflow.python.keras.callbacks.History at 0x7fd7101846d8>"
            ]
          },
          "metadata": {
            "tags": []
          },
          "execution_count": 23
        }
      ]
    },
    {
      "metadata": {
        "id": "mE41_VArlC-O",
        "colab_type": "code",
        "outputId": "fc20b964-5d7b-4612-8565-8d8ad1252881",
        "colab": {
          "base_uri": "https://localhost:8080/",
          "height": 51
        }
      },
      "cell_type": "code",
      "source": [
        "cnn_model.evaluate(X_test, y_test)"
      ],
      "execution_count": 24,
      "outputs": [
        {
          "output_type": "stream",
          "text": [
            "10000/10000 [==============================] - 1s 62us/sample - loss: 0.0503 - acc: 0.9906\n"
          ],
          "name": "stdout"
        },
        {
          "output_type": "execute_result",
          "data": {
            "text/plain": [
              "[0.05025939732443003, 0.9906]"
            ]
          },
          "metadata": {
            "tags": []
          },
          "execution_count": 24
        }
      ]
    },
    {
      "metadata": {
        "id": "kYxTqInRIr3E",
        "colab_type": "text"
      },
      "cell_type": "markdown",
      "source": [
        "CNN model is achieving an accuracy of 99.2% on the test set! "
      ]
    },
    {
      "metadata": {
        "id": "1B1fjheMd9MZ",
        "colab_type": "text"
      },
      "cell_type": "markdown",
      "source": [
        "Taking a random sample from the test, and running the the model."
      ]
    },
    {
      "metadata": {
        "id": "-Yl5rO2XI0iu",
        "colab_type": "code",
        "colab": {}
      },
      "cell_type": "code",
      "source": [
        "rand_test_samp = random.randint(1, 10000)"
      ],
      "execution_count": 0,
      "outputs": []
    },
    {
      "metadata": {
        "id": "Rocc6boEjUml",
        "colab_type": "code",
        "outputId": "9d0458a6-09f8-46dc-9b14-b1fc281d5bcc",
        "colab": {
          "base_uri": "https://localhost:8080/",
          "height": 34
        }
      },
      "cell_type": "code",
      "source": [
        "rand_test_image = X_test[rand_test_samp]\n",
        "rand_test_image = rand_test_image.reshape(28,28)\n",
        "rand_test_label = y_test[rand_test_samp]\n",
        "print(\"The actual label of the sample test image is: {}\".format(rand_test_label))"
      ],
      "execution_count": 26,
      "outputs": [
        {
          "output_type": "stream",
          "text": [
            "The actual label of the sample test image is: 9\n"
          ],
          "name": "stdout"
        }
      ]
    },
    {
      "metadata": {
        "id": "e_5SPDYajy1T",
        "colab_type": "code",
        "outputId": "74fd901f-1552-4caa-9357-7de0da9f00b0",
        "colab": {
          "base_uri": "https://localhost:8080/",
          "height": 281
        }
      },
      "cell_type": "code",
      "source": [
        "plt.imshow(rand_test_image)\n",
        "plt.title(\"Actual label of test image: {}\".format(rand_test_label))\n",
        "plt.show()"
      ],
      "execution_count": 27,
      "outputs": [
        {
          "output_type": "display_data",
          "data": {
            "image/png": "[encoded data removed]",
            "text/plain": [
              "<Figure size 432x288 with 1 Axes>"
            ]
          },
          "metadata": {
            "tags": []
          }
        }
      ]
    },
    {
      "metadata": {
        "id": "Ao17xCL2kVnB",
        "colab_type": "code",
        "outputId": "9c862dba-f2a5-4b60-ab09-d73b64e8fad8",
        "colab": {
          "base_uri": "https://localhost:8080/",
          "height": 51
        }
      },
      "cell_type": "code",
      "source": [
        "rand_test_image = rand_test_image.reshape(1, 28, 28, 1)\n",
        "rand_test_predicted_label = np.array(cnn_model.predict(rand_test_image)).argmax(axis=-1)[0]\n",
        "print(\"Predicted label of image: {}\".format(rand_test_predicted_label))\n",
        "if (rand_test_predicted_label == rand_test_label):\n",
        "  print(\"The model predicted the label correctly!\")\n",
        "else:\n",
        "  print(\"The model predicted the label incorrectly :(\")"
      ],
      "execution_count": 28,
      "outputs": [
        {
          "output_type": "stream",
          "text": [
            "Predicted label of image: 9\n",
            "The model predicted the label correctly!\n"
          ],
          "name": "stdout"
        }
      ]
    },
    {
      "metadata": {
        "id": "wR5PtgycmgzE",
        "colab_type": "text"
      },
      "cell_type": "markdown",
      "source": [
        "## Importing custom hand drawn digits and using CNN model to predict their labels"
      ]
    },
    {
      "metadata": {
        "id": "kZgaMB3LsAKI",
        "colab_type": "code",
        "outputId": "664e9907-fdca-43bf-f341-5b5d2dea44f6",
        "colab": {
          "base_uri": "https://localhost:8080/",
          "height": 34
        }
      },
      "cell_type": "code",
      "source": [
        "drive.mount('/content/drive')"
      ],
      "execution_count": 35,
      "outputs": [
        {
          "output_type": "stream",
          "text": [
            "Drive already mounted at /content/drive; to attempt to forcibly remount, call drive.mount(\"/content/drive\", force_remount=True).\n"
          ],
          "name": "stdout"
        }
      ]
    },
    {
      "metadata": {
        "id": "MJgVodYZmvL6",
        "colab_type": "code",
        "colab": {}
      },
      "cell_type": "code",
      "source": [
        "fig_seven_paint = Image.open(\"/content/drive/My Drive/mnist/figure_seven_paint_thick.png\")\n",
        "fig_five_paint = Image.open(\"/content/drive/My Drive/mnist/fig_five_paint.png\")"
      ],
      "execution_count": 0,
      "outputs": []
    },
    {
      "metadata": {
        "id": "zCLODvMV0RBP",
        "colab_type": "code",
        "colab": {
          "base_uri": "https://localhost:8080/",
          "height": 286
        },
        "outputId": "b84f4796-807b-4f16-e8c7-252c555d7309"
      },
      "cell_type": "code",
      "source": [
        "plt.imshow(fig_seven_paint)"
      ],
      "execution_count": 31,
      "outputs": [
        {
          "output_type": "execute_result",
          "data": {
            "text/plain": [
              "<matplotlib.image.AxesImage at 0x7fd6d99a1b00>"
            ]
          },
          "metadata": {
            "tags": []
          },
          "execution_count": 31
        },
        {
          "output_type": "display_data",
          "data": {
            "image/png": "[encoded data removed]",
            "text/plain": [
              "<Figure size 432x288 with 1 Axes>"
            ]
          },
          "metadata": {
            "tags": []
          }
        }
      ]
    },
    {
      "metadata": {
        "id": "-n5CjByYWbST",
        "colab_type": "code",
        "colab": {
          "base_uri": "https://localhost:8080/",
          "height": 286
        },
        "outputId": "4e18e054-590b-4f66-9c1d-e9ddf2ba0049"
      },
      "cell_type": "code",
      "source": [
        "plt.imshow(fig_five_paint)"
      ],
      "execution_count": 37,
      "outputs": [
        {
          "output_type": "execute_result",
          "data": {
            "text/plain": [
              "<matplotlib.image.AxesImage at 0x7fd6d98ced30>"
            ]
          },
          "metadata": {
            "tags": []
          },
          "execution_count": 37
        },
        {
          "output_type": "display_data",
          "data": {
            "image/png": "[encoded data removed]",
            "text/plain": [
              "<Figure size 432x288 with 1 Axes>"
            ]
          },
          "metadata": {
            "tags": []
          }
        }
      ]
    },
    {
      "metadata": {
        "id": "e3rEyW6xkKJM",
        "colab_type": "code",
        "colab": {}
      },
      "cell_type": "code",
      "source": [
        "def make_prediction_for_png(cnn, image_png):\n",
        "  # convert to greyscale and resize to 28 by 28\n",
        "  image_scaled = image_png.convert('L').resize((28, 28), Image.NEAREST)\n",
        "  np_image_scaled = np.array(image_scaled)\n",
        "  np_image_scaled_norm = np_image_scaled / 255.0\n",
        "  np_image_scaled_norm = np_image_scaled_norm.reshape(1, 28, 28, 1)\n",
        "  prediction = cnn.predict(np_image_scaled_norm).argmax(axis=-1)[0]\n",
        "  return \"The CNN model chosen has predicted that the image is a figure {}!\".format(prediction)"
      ],
      "execution_count": 0,
      "outputs": []
    },
    {
      "metadata": {
        "id": "Z24e2Ei5lpc_",
        "colab_type": "code",
        "outputId": "962f5fa9-26e2-4081-fdfd-a964d9cfba97",
        "colab": {
          "base_uri": "https://localhost:8080/",
          "height": 34
        }
      },
      "cell_type": "code",
      "source": [
        "make_prediction_for_png(cnn_model, fig_seven_paint)"
      ],
      "execution_count": 46,
      "outputs": [
        {
          "output_type": "execute_result",
          "data": {
            "text/plain": [
              "'The CNN model chosen has predicted that the image is a figure 7!'"
            ]
          },
          "metadata": {
            "tags": []
          },
          "execution_count": 46
        }
      ]
    },
    {
      "metadata": {
        "id": "TdmBF_XkHcSh",
        "colab_type": "code",
        "colab": {
          "base_uri": "https://localhost:8080/",
          "height": 34
        },
        "outputId": "c0f82aa8-2308-41f8-d204-49939dd088da"
      },
      "cell_type": "code",
      "source": [
        "make_prediction_for_png(cnn_model, fig_five_paint)"
      ],
      "execution_count": 47,
      "outputs": [
        {
          "output_type": "execute_result",
          "data": {
            "text/plain": [
              "'The CNN model chosen has predicted that the image is a figure 5!'"
            ]
          },
          "metadata": {
            "tags": []
          },
          "execution_count": 47
        }
      ]
    }
  ]
}