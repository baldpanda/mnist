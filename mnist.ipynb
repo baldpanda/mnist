{
  "nbformat": 4,
  "nbformat_minor": 0,
  "metadata": {
    "colab": {
      "name": "mnist.ipynb",
      "version": "0.3.2",
      "provenance": [],
      "collapsed_sections": [],
      "include_colab_link": true
    },
    "kernelspec": {
      "name": "python3",
      "display_name": "Python 3"
    },
    "accelerator": "GPU"
  },
  "cells": [
    {
      "cell_type": "markdown",
      "metadata": {
        "id": "view-in-github",
        "colab_type": "text"
      },
      "source": [
        "<a href=\"https://colab.research.google.com/github/baldpanda/mnist/blob/experimenting-with-notebook/mnist.ipynb\" target=\"_parent\"><img src=\"https://colab.research.google.com/assets/colab-badge.svg\" alt=\"Open In Colab\"/></a>"
      ]
    },
    {
      "metadata": {
        "id": "x0c4zyAjAAif",
        "colab_type": "text"
      },
      "cell_type": "markdown",
      "source": [
        "# Learning TensorFlow and Keras- MNIST"
      ]
    },
    {
      "metadata": {
        "id": "BnlRaM4-cn1t",
        "colab_type": "text"
      },
      "cell_type": "markdown",
      "source": [
        "Taking the learnings from the Introduction to TensorFlow for AI, ML, and Deep Learning on Coursera and experimenting with them on the MNIST dataset. "
      ]
    },
    {
      "metadata": {
        "id": "U0-vHu17dPrU",
        "colab_type": "text"
      },
      "cell_type": "markdown",
      "source": [
        "**Note** - Collab gives the option of running notebook on GPU enabled machine. This seems to speed up training significantly."
      ]
    },
    {
      "metadata": {
        "id": "Mbpd_nu6piHS",
        "colab_type": "code",
        "outputId": "0d1cbc70-cb85-4990-b368-cae104b4594e",
        "colab": {
          "base_uri": "https://localhost:8080/",
          "height": 34
        }
      },
      "cell_type": "code",
      "source": [
        "import tensorflow as tf\n",
        "import matplotlib.pyplot as plt\n",
        "import numpy as np\n",
        "import random\n",
        "from google.colab import drive\n",
        "from PIL import Image\n",
        "print(tf.VERSION)"
      ],
      "execution_count": 4,
      "outputs": [
        {
          "output_type": "stream",
          "text": [
            "1.13.1\n"
          ],
          "name": "stdout"
        }
      ]
    },
    {
      "metadata": {
        "id": "ZVszehuXrrEW",
        "colab_type": "code",
        "colab": {}
      },
      "cell_type": "code",
      "source": [
        "random.seed(42)"
      ],
      "execution_count": 0,
      "outputs": []
    },
    {
      "metadata": {
        "id": "G0fbZPLNulco",
        "colab_type": "text"
      },
      "cell_type": "markdown",
      "source": [
        "Keras comes with a number of inbuilt datasets. These include:\n",
        "\n",
        "*   CIFAR10 AND CIFAR100 image classification (50,000 images with 10 and 100 different classes respectively)\n",
        "*   MNIST\n",
        "*   Fashion MNIST\n",
        "*   Boston Housing Regression Dataset\n",
        "\n",
        "\n"
      ]
    },
    {
      "metadata": {
        "id": "Mzu96hilqJry",
        "colab_type": "code",
        "colab": {}
      },
      "cell_type": "code",
      "source": [
        "mnist = tf.keras.datasets.mnist"
      ],
      "execution_count": 0,
      "outputs": []
    },
    {
      "metadata": {
        "id": "4jySI0XHvfyX",
        "colab_type": "code",
        "colab": {}
      },
      "cell_type": "code",
      "source": [
        "(X_train, y_train), (X_test, y_test) = mnist.load_data()"
      ],
      "execution_count": 0,
      "outputs": []
    },
    {
      "metadata": {
        "id": "GeBmOw7wv0Id",
        "colab_type": "code",
        "outputId": "e87a73bb-688e-4d6f-de4b-7e2e9d6eab4d",
        "colab": {
          "base_uri": "https://localhost:8080/",
          "height": 34
        }
      },
      "cell_type": "code",
      "source": [
        "print('The training data has shape: {}.'.format(X_train.shape))"
      ],
      "execution_count": 0,
      "outputs": [
        {
          "output_type": "stream",
          "text": [
            "The training data has shape: (60000, 28, 28).\n"
          ],
          "name": "stdout"
        }
      ]
    },
    {
      "metadata": {
        "id": "E9zpKKfgv9xV",
        "colab_type": "code",
        "outputId": "55605e2c-5659-46b3-bdce-18f8d92c9358",
        "colab": {
          "base_uri": "https://localhost:8080/",
          "height": 34
        }
      },
      "cell_type": "code",
      "source": [
        "print('The testing data has size: {}.'.format(X_test.shape[0]))"
      ],
      "execution_count": 0,
      "outputs": [
        {
          "output_type": "stream",
          "text": [
            "The testing data has size: 10000.\n"
          ],
          "name": "stdout"
        }
      ]
    },
    {
      "metadata": {
        "id": "_HBwTl3UXByI",
        "colab_type": "text"
      },
      "cell_type": "markdown",
      "source": [
        "Plotting an image from the training data sampled at random."
      ]
    },
    {
      "metadata": {
        "id": "3q4PwBWp4WeW",
        "colab_type": "code",
        "outputId": "439cb244-2ec1-48f4-9b3e-81129cf791a6",
        "colab": {
          "base_uri": "https://localhost:8080/",
          "height": 281
        }
      },
      "cell_type": "code",
      "source": [
        "number_to_plot = random.randint(0,X_train.shape[0])\n",
        "plt.title(\"Image label: {}\".format(y_train[number_to_plot]))\n",
        "plt.imshow(X_train[number_to_plot])\n",
        "plt.show()"
      ],
      "execution_count": 0,
      "outputs": [
        {
          "output_type": "display_data",
          "data": {
            "image/png": "[encoded data removed]",
            "text/plain": [
              "<Figure size 432x288 with 1 Axes>"
            ]
          },
          "metadata": {
            "tags": []
          }
        }
      ]
    },
    {
      "metadata": {
        "id": "jSYhuzWvlD_m",
        "colab_type": "code",
        "outputId": "69b6a4a8-71ac-4cd2-b378-7a9889f6524d",
        "colab": {
          "base_uri": "https://localhost:8080/",
          "height": 34
        }
      },
      "cell_type": "code",
      "source": [
        "X_train[number_to_plot].shape"
      ],
      "execution_count": 0,
      "outputs": [
        {
          "output_type": "execute_result",
          "data": {
            "text/plain": [
              "(28, 28)"
            ]
          },
          "metadata": {
            "tags": []
          },
          "execution_count": 65
        }
      ]
    },
    {
      "metadata": {
        "id": "YKllN4s2wnlP",
        "colab_type": "text"
      },
      "cell_type": "markdown",
      "source": [
        "Normalising the data "
      ]
    },
    {
      "metadata": {
        "id": "ZkAzH_Hux_gc",
        "colab_type": "code",
        "colab": {}
      },
      "cell_type": "code",
      "source": [
        "X_train = X_train / 255.0\n",
        "X_test = X_test / 255.0"
      ],
      "execution_count": 0,
      "outputs": []
    },
    {
      "metadata": {
        "id": "mGeKryvBY_p_",
        "colab_type": "text"
      },
      "cell_type": "markdown",
      "source": [
        "# Building a fully connected neural network and fitting on the training data"
      ]
    },
    {
      "metadata": {
        "id": "pmq3msBQwxng",
        "colab_type": "code",
        "colab": {}
      },
      "cell_type": "code",
      "source": [
        "model = tf.keras.Sequential([\n",
        "    tf.keras.layers.Flatten(),\n",
        "    tf.keras.layers.Dense(128, activation = tf.nn.relu),\n",
        "    tf.keras.layers.Dense(10, activation = tf.nn.softmax)\n",
        "])"
      ],
      "execution_count": 0,
      "outputs": []
    },
    {
      "metadata": {
        "id": "69Buq1OyxRsL",
        "colab_type": "code",
        "outputId": "d7bc8f4a-e26e-434e-e00d-4d174fc33c04",
        "colab": {
          "base_uri": "https://localhost:8080/",
          "height": 88
        }
      },
      "cell_type": "code",
      "source": [
        "model.compile(optimizer=tf.train.AdamOptimizer(),\n",
        "             loss='sparse_categorical_crossentropy',\n",
        "             metrics=['accuracy'])"
      ],
      "execution_count": 0,
      "outputs": [
        {
          "output_type": "stream",
          "text": [
            "WARNING:tensorflow:From /usr/local/lib/python3.6/dist-packages/tensorflow/python/ops/resource_variable_ops.py:435: colocate_with (from tensorflow.python.framework.ops) is deprecated and will be removed in a future version.\n",
            "Instructions for updating:\n",
            "Colocations handled automatically by placer.\n"
          ],
          "name": "stdout"
        }
      ]
    },
    {
      "metadata": {
        "id": "NNVzXsmvxT1Y",
        "colab_type": "code",
        "outputId": "538db7cc-a4c7-46e5-f6b2-4cde7754f29f",
        "colab": {
          "base_uri": "https://localhost:8080/",
          "height": 204
        }
      },
      "cell_type": "code",
      "source": [
        "model.fit(X_train, y_train, epochs=5)"
      ],
      "execution_count": 0,
      "outputs": [
        {
          "output_type": "stream",
          "text": [
            "Epoch 1/5\n",
            "60000/60000 [==============================] - 6s 103us/sample - loss: 0.2603 - acc: 0.9269\n",
            "Epoch 2/5\n",
            "60000/60000 [==============================] - 5s 89us/sample - loss: 0.1100 - acc: 0.9675\n",
            "Epoch 3/5\n",
            "60000/60000 [==============================] - 5s 90us/sample - loss: 0.0757 - acc: 0.9768\n",
            "Epoch 4/5\n",
            "60000/60000 [==============================] - 5s 89us/sample - loss: 0.0577 - acc: 0.9821\n",
            "Epoch 5/5\n",
            "60000/60000 [==============================] - 5s 90us/sample - loss: 0.0455 - acc: 0.9858\n"
          ],
          "name": "stdout"
        },
        {
          "output_type": "execute_result",
          "data": {
            "text/plain": [
              "<tensorflow.python.keras.callbacks.History at 0x7fd83ce04b38>"
            ]
          },
          "metadata": {
            "tags": []
          },
          "execution_count": 10
        }
      ]
    },
    {
      "metadata": {
        "id": "WjQrfs1vCnhd",
        "colab_type": "code",
        "outputId": "86c24885-9035-4a8c-a5d8-4cadb5e20afd",
        "colab": {
          "base_uri": "https://localhost:8080/",
          "height": 238
        }
      },
      "cell_type": "code",
      "source": [
        "model.summary()"
      ],
      "execution_count": 0,
      "outputs": [
        {
          "output_type": "stream",
          "text": [
            "_________________________________________________________________\n",
            "Layer (type)                 Output Shape              Param #   \n",
            "=================================================================\n",
            "flatten (Flatten)            multiple                  0         \n",
            "_________________________________________________________________\n",
            "dense (Dense)                multiple                  100480    \n",
            "_________________________________________________________________\n",
            "dense_1 (Dense)              multiple                  1290      \n",
            "=================================================================\n",
            "Total params: 101,770\n",
            "Trainable params: 101,770\n",
            "Non-trainable params: 0\n",
            "_________________________________________________________________\n"
          ],
          "name": "stdout"
        }
      ]
    },
    {
      "metadata": {
        "id": "cmnFC9lvy3s2",
        "colab_type": "code",
        "outputId": "b46b22ce-0771-4143-fce8-2a5e3f2f6b48",
        "colab": {
          "base_uri": "https://localhost:8080/",
          "height": 51
        }
      },
      "cell_type": "code",
      "source": [
        "model.evaluate(X_test, y_test)"
      ],
      "execution_count": 0,
      "outputs": [
        {
          "output_type": "stream",
          "text": [
            "10000/10000 [==============================] - 1s 64us/sample - loss: 0.0731 - acc: 0.9766\n"
          ],
          "name": "stdout"
        },
        {
          "output_type": "execute_result",
          "data": {
            "text/plain": [
              "[0.07312068685933482, 0.9766]"
            ]
          },
          "metadata": {
            "tags": []
          },
          "execution_count": 12
        }
      ]
    },
    {
      "metadata": {
        "id": "HXHE-6AqzH9H",
        "colab_type": "text"
      },
      "cell_type": "markdown",
      "source": [
        "Building a basic 2 layer fully connected NN that achieves 97.8% accuracy on the test data. "
      ]
    },
    {
      "metadata": {
        "id": "7U314rfgAQW-",
        "colab_type": "text"
      },
      "cell_type": "markdown",
      "source": [
        "Adding callback function, which stops training once the model achieves an accuracy of xx.x% on the training data and adding an extra layer to the NN."
      ]
    },
    {
      "metadata": {
        "id": "OyVkZHZa_90n",
        "colab_type": "code",
        "colab": {}
      },
      "cell_type": "code",
      "source": [
        "class myCallback(tf.keras.callbacks.Callback):  \n",
        "  def on_epoch_end(self, epoch, logs={}):\n",
        "    if logs.get('acc') > 0.999:\n",
        "      print(\"\\nYou've exceded an accuracy of 99.9%\")\n",
        "      self.model.stop_training = True  "
      ],
      "execution_count": 0,
      "outputs": []
    },
    {
      "metadata": {
        "id": "aDgez5U4Bhr6",
        "colab_type": "code",
        "colab": {}
      },
      "cell_type": "code",
      "source": [
        "callbacks = myCallback()"
      ],
      "execution_count": 0,
      "outputs": []
    },
    {
      "metadata": {
        "id": "YpLEKg4ABnqi",
        "colab_type": "code",
        "colab": {}
      },
      "cell_type": "code",
      "source": [
        "two_layer_network = tf.keras.Sequential([\n",
        "    tf.keras.layers.Flatten(),\n",
        "    tf.keras.layers.Dense(512, activation=\"relu\"),\n",
        "    tf.keras.layers.Dense(128, activation=\"relu\"),\n",
        "    tf.keras.layers.Dense(10, activation=\"softmax\")\n",
        "])"
      ],
      "execution_count": 0,
      "outputs": []
    },
    {
      "metadata": {
        "id": "X0K6n_TxCjQp",
        "colab_type": "code",
        "colab": {}
      },
      "cell_type": "code",
      "source": [
        "two_layer_network.compile(optimizer=tf.train.AdamOptimizer(),\n",
        "                         loss='sparse_categorical_crossentropy',\n",
        "                         metrics=['accuracy'])"
      ],
      "execution_count": 0,
      "outputs": []
    },
    {
      "metadata": {
        "id": "ZqEsxwbDDUvL",
        "colab_type": "code",
        "outputId": "8f544506-17f0-4452-c9d6-a6a2ec8a83b5",
        "colab": {
          "base_uri": "https://localhost:8080/",
          "height": 374
        }
      },
      "cell_type": "code",
      "source": [
        "two_layer_network.fit(X_train, y_train, epochs=10, callbacks=[callbacks])"
      ],
      "execution_count": 0,
      "outputs": [
        {
          "output_type": "stream",
          "text": [
            "Epoch 1/10\n",
            "60000/60000 [==============================] - 6s 107us/sample - loss: 0.1882 - acc: 0.9430\n",
            "Epoch 2/10\n",
            "60000/60000 [==============================] - 6s 106us/sample - loss: 0.0786 - acc: 0.9753\n",
            "Epoch 3/10\n",
            "60000/60000 [==============================] - 6s 106us/sample - loss: 0.0565 - acc: 0.9822\n",
            "Epoch 4/10\n",
            "60000/60000 [==============================] - 6s 105us/sample - loss: 0.0401 - acc: 0.9873\n",
            "Epoch 5/10\n",
            "60000/60000 [==============================] - 6s 106us/sample - loss: 0.0321 - acc: 0.9889\n",
            "Epoch 6/10\n",
            "60000/60000 [==============================] - 6s 104us/sample - loss: 0.0283 - acc: 0.9906\n",
            "Epoch 7/10\n",
            "60000/60000 [==============================] - 6s 105us/sample - loss: 0.0227 - acc: 0.9925\n",
            "Epoch 8/10\n",
            "60000/60000 [==============================] - 7s 113us/sample - loss: 0.0199 - acc: 0.9934\n",
            "Epoch 9/10\n",
            "60000/60000 [==============================] - 6s 106us/sample - loss: 0.0173 - acc: 0.9944\n",
            "Epoch 10/10\n",
            "60000/60000 [==============================] - 6s 102us/sample - loss: 0.0178 - acc: 0.9945\n"
          ],
          "name": "stdout"
        },
        {
          "output_type": "execute_result",
          "data": {
            "text/plain": [
              "<tensorflow.python.keras.callbacks.History at 0x7fd834a0bb00>"
            ]
          },
          "metadata": {
            "tags": []
          },
          "execution_count": 17
        }
      ]
    },
    {
      "metadata": {
        "id": "dWiZqeXdDcy0",
        "colab_type": "code",
        "colab": {}
      },
      "cell_type": "code",
      "source": [
        "X_train = X_train.reshape(60000, 28, 28, 1)\n",
        "X_test = X_test.reshape(10000, 28, 28, 1)"
      ],
      "execution_count": 0,
      "outputs": []
    },
    {
      "metadata": {
        "id": "AfTTSMBFZXhc",
        "colab_type": "text"
      },
      "cell_type": "markdown",
      "source": [
        "# Convolutional Neural Network"
      ]
    },
    {
      "metadata": {
        "id": "E7KLdb04jFTg",
        "colab_type": "code",
        "colab": {}
      },
      "cell_type": "code",
      "source": [
        "cnn_model = tf.keras.Sequential([\n",
        "    tf.keras.layers.Conv2D(64, (3, 3), activation=\"relu\", input_shape=(28, 28, 1)),\n",
        "    tf.keras.layers.MaxPooling2D((2, 2)),\n",
        "    tf.keras.layers.Conv2D(64, (3, 3), activation=\"relu\"),\n",
        "    tf.keras.layers.MaxPooling2D((2, 2)),\n",
        "    tf.keras.layers.Flatten(),\n",
        "    tf.keras.layers.Dense(128, activation=\"relu\"),\n",
        "    tf.keras.layers.Dense(10, activation=\"softmax\")\n",
        "])"
      ],
      "execution_count": 0,
      "outputs": []
    },
    {
      "metadata": {
        "id": "pVC75YlVkYgf",
        "colab_type": "code",
        "colab": {}
      },
      "cell_type": "code",
      "source": [
        "cnn_model.compile(optimizer=\"adam\", loss=\"sparse_categorical_crossentropy\", metrics=[\"accuracy\"])"
      ],
      "execution_count": 0,
      "outputs": []
    },
    {
      "metadata": {
        "id": "4OOtjP4_k3l2",
        "colab_type": "code",
        "outputId": "e2aae49a-0d71-4f4c-c4be-169481de6bc5",
        "colab": {
          "base_uri": "https://localhost:8080/",
          "height": 544
        }
      },
      "cell_type": "code",
      "source": [
        "\n",
        "cnn_model.fit(X_train, y_train, epochs=15, callbacks=[callbacks])"
      ],
      "execution_count": 0,
      "outputs": [
        {
          "output_type": "stream",
          "text": [
            "Epoch 1/15\n",
            "60000/60000 [==============================] - 16s 262us/sample - loss: 0.1205 - acc: 0.9628\n",
            "Epoch 2/15\n",
            "60000/60000 [==============================] - 13s 222us/sample - loss: 0.0399 - acc: 0.9875\n",
            "Epoch 3/15\n",
            "60000/60000 [==============================] - 13s 221us/sample - loss: 0.0267 - acc: 0.9916\n",
            "Epoch 4/15\n",
            "60000/60000 [==============================] - 13s 224us/sample - loss: 0.0198 - acc: 0.9934\n",
            "Epoch 5/15\n",
            "60000/60000 [==============================] - 14s 229us/sample - loss: 0.0155 - acc: 0.9952\n",
            "Epoch 6/15\n",
            "60000/60000 [==============================] - 13s 224us/sample - loss: 0.0112 - acc: 0.9966\n",
            "Epoch 7/15\n",
            "60000/60000 [==============================] - 13s 222us/sample - loss: 0.0098 - acc: 0.9967\n",
            "Epoch 8/15\n",
            "60000/60000 [==============================] - 13s 222us/sample - loss: 0.0079 - acc: 0.9977\n",
            "Epoch 9/15\n",
            "60000/60000 [==============================] - 13s 221us/sample - loss: 0.0074 - acc: 0.9977\n",
            "Epoch 10/15\n",
            "60000/60000 [==============================] - 13s 221us/sample - loss: 0.0055 - acc: 0.9984\n",
            "Epoch 11/15\n",
            "60000/60000 [==============================] - 13s 223us/sample - loss: 0.0057 - acc: 0.9982\n",
            "Epoch 12/15\n",
            "60000/60000 [==============================] - 14s 230us/sample - loss: 0.0056 - acc: 0.9982\n",
            "Epoch 13/15\n",
            "60000/60000 [==============================] - 14s 233us/sample - loss: 0.0049 - acc: 0.9985\n",
            "Epoch 14/15\n",
            "60000/60000 [==============================] - 14s 233us/sample - loss: 0.0043 - acc: 0.9986\n",
            "Epoch 15/15\n",
            "60000/60000 [==============================] - 14s 232us/sample - loss: 0.0039 - acc: 0.9988\n"
          ],
          "name": "stdout"
        },
        {
          "output_type": "execute_result",
          "data": {
            "text/plain": [
              "<tensorflow.python.keras.callbacks.History at 0x7fd8341036a0>"
            ]
          },
          "metadata": {
            "tags": []
          },
          "execution_count": 21
        }
      ]
    },
    {
      "metadata": {
        "id": "mE41_VArlC-O",
        "colab_type": "code",
        "outputId": "8978395b-c237-49e2-c63b-207ae9494a16",
        "colab": {
          "base_uri": "https://localhost:8080/",
          "height": 51
        }
      },
      "cell_type": "code",
      "source": [
        "cnn_model.evaluate(X_test, y_test)"
      ],
      "execution_count": 0,
      "outputs": [
        {
          "output_type": "stream",
          "text": [
            "10000/10000 [==============================] - 1s 106us/sample - loss: 0.0359 - acc: 0.9923\n"
          ],
          "name": "stdout"
        },
        {
          "output_type": "execute_result",
          "data": {
            "text/plain": [
              "[0.03590697123094433, 0.9923]"
            ]
          },
          "metadata": {
            "tags": []
          },
          "execution_count": 22
        }
      ]
    },
    {
      "metadata": {
        "id": "kYxTqInRIr3E",
        "colab_type": "text"
      },
      "cell_type": "markdown",
      "source": [
        "CNN model is achieving an accuracy of 99.2% on the test set! "
      ]
    },
    {
      "metadata": {
        "id": "1B1fjheMd9MZ",
        "colab_type": "text"
      },
      "cell_type": "markdown",
      "source": [
        "Taking a random sample from the test, and running the the model."
      ]
    },
    {
      "metadata": {
        "id": "-Yl5rO2XI0iu",
        "colab_type": "code",
        "colab": {}
      },
      "cell_type": "code",
      "source": [
        "rand_test_samp = random.randint(1, 10000)"
      ],
      "execution_count": 0,
      "outputs": []
    },
    {
      "metadata": {
        "id": "Rocc6boEjUml",
        "colab_type": "code",
        "outputId": "2a77684b-7059-44d0-8315-f108f0ba2790",
        "colab": {
          "base_uri": "https://localhost:8080/",
          "height": 34
        }
      },
      "cell_type": "code",
      "source": [
        "rand_test_image = X_test[rand_test_samp]\n",
        "rand_test_image = rand_test_image.reshape(28,28)\n",
        "rand_test_label = y_test[rand_test_samp]\n",
        "print(\"The actual label of the sample test image is: {}\".format(rand_test_label))"
      ],
      "execution_count": 0,
      "outputs": [
        {
          "output_type": "stream",
          "text": [
            "The actual label of the sample test image is: 7\n"
          ],
          "name": "stdout"
        }
      ]
    },
    {
      "metadata": {
        "id": "e_5SPDYajy1T",
        "colab_type": "code",
        "outputId": "d61e77b5-d6b2-4915-c3e6-23eda32061dc",
        "colab": {
          "base_uri": "https://localhost:8080/",
          "height": 281
        }
      },
      "cell_type": "code",
      "source": [
        "plt.imshow(rand_test_image)\n",
        "plt.title(\"Actual label of test image: {}\".format(rand_test_label))\n",
        "plt.show()"
      ],
      "execution_count": 0,
      "outputs": [
        {
          "output_type": "display_data",
          "data": {
            "image/png": "[encoded data removed]",
            "text/plain": [
              "<Figure size 432x288 with 1 Axes>"
            ]
          },
          "metadata": {
            "tags": []
          }
        }
      ]
    },
    {
      "metadata": {
        "id": "Ao17xCL2kVnB",
        "colab_type": "code",
        "outputId": "f4a37636-7cb7-49f5-9965-cd5859d118f1",
        "colab": {
          "base_uri": "https://localhost:8080/",
          "height": 51
        }
      },
      "cell_type": "code",
      "source": [
        "rand_test_image = rand_test_image.reshape(1, 28, 28, 1)\n",
        "rand_test_predicted_label = np.array(cnn_model.predict(rand_test_image)).argmax(axis=-1)[0]\n",
        "print(\"Predicted label of image: {}\".format(rand_test_predicted_label))\n",
        "if (rand_test_predicted_label == rand_test_label):\n",
        "  print(\"The model predicted the label correctly!\")\n",
        "else:\n",
        "  print(\"The model predicted the label incorrectly :(\")"
      ],
      "execution_count": 0,
      "outputs": [
        {
          "output_type": "stream",
          "text": [
            "Predicted label of image: 7\n",
            "The model predicted the label correctly!\n"
          ],
          "name": "stdout"
        }
      ]
    },
    {
      "metadata": {
        "id": "wR5PtgycmgzE",
        "colab_type": "text"
      },
      "cell_type": "markdown",
      "source": [
        "Importing a image of a figure 8 that I drew."
      ]
    },
    {
      "metadata": {
        "id": "kZgaMB3LsAKI",
        "colab_type": "code",
        "colab": {
          "base_uri": "https://localhost:8080/",
          "height": 122
        },
        "outputId": "6651ac33-0903-46e9-b3be-bcc8430140d4"
      },
      "cell_type": "code",
      "source": [
        "drive.mount('/content/drive')"
      ],
      "execution_count": 2,
      "outputs": [
        {
          "output_type": "stream",
          "text": [
            "Go to this URL in a browser: https://accounts.google.com/o/oauth2/auth?client_id=947318989803-6bn6qk8qdgf4n4g3pfee6491hc0brc4i.apps.googleusercontent.com&redirect_uri=urn%3Aietf%3Awg%3Aoauth%3A2.0%3Aoob&scope=email%20https%3A%2F%2Fwww.googleapis.com%2Fauth%2Fdocs.test%20https%3A%2F%2Fwww.googleapis.com%2Fauth%2Fdrive%20https%3A%2F%2Fwww.googleapis.com%2Fauth%2Fdrive.photos.readonly%20https%3A%2F%2Fwww.googleapis.com%2Fauth%2Fpeopleapi.readonly&response_type=code\n",
            "\n",
            "Enter your authorization code:\n",
            "··········\n",
            "Mounted at /content/drive\n"
          ],
          "name": "stdout"
        }
      ]
    },
    {
      "metadata": {
        "id": "MJgVodYZmvL6",
        "colab_type": "code",
        "colab": {}
      },
      "cell_type": "code",
      "source": [
        "fig_eight = Image.open(\"/content/drive/My Drive/mnist/figure_eight.png\").convert('LA')"
      ],
      "execution_count": 0,
      "outputs": []
    },
    {
      "metadata": {
        "id": "bgap5zHvnv5n",
        "colab_type": "code",
        "colab": {
          "base_uri": "https://localhost:8080/",
          "height": 17034
        },
        "outputId": "0b2a3c8b-993d-427b-fc19-16e053cb640d"
      },
      "cell_type": "code",
      "source": [
        "list(fig_eight.getdata())"
      ],
      "execution_count": 14,
      "outputs": [
        {
          "output_type": "execute_result",
          "data": {
            "text/plain": [
              "[(146, 255),\n",
              " (149, 255),\n",
              " (146, 255),\n",
              " (146, 255),\n",
              " (148, 255),\n",
              " (144, 255),\n",
              " (144, 255),\n",
              " (148, 255),\n",
              " (152, 255),\n",
              " (151, 255),\n",
              " (151, 255),\n",
              " (150, 255),\n",
              " (149, 255),\n",
              " (150, 255),\n",
              " (148, 255),\n",
              " (147, 255),\n",
              " (146, 255),\n",
              " (146, 255),\n",
              " (147, 255),\n",
              " (149, 255),\n",
              " (151, 255),\n",
              " (150, 255),\n",
              " (148, 255),\n",
              " (150, 255),\n",
              " (151, 255),\n",
              " (151, 255),\n",
              " (150, 255),\n",
              " (149, 255),\n",
              " (147, 255),\n",
              " (147, 255),\n",
              " (150, 255),\n",
              " (154, 255),\n",
              " (148, 255),\n",
              " (144, 255),\n",
              " (146, 255),\n",
              " (148, 255),\n",
              " (148, 255),\n",
              " (148, 255),\n",
              " (149, 255),\n",
              " (146, 255),\n",
              " (146, 255),\n",
              " (149, 255),\n",
              " (152, 255),\n",
              " (154, 255),\n",
              " (154, 255),\n",
              " (151, 255),\n",
              " (147, 255),\n",
              " (145, 255),\n",
              " (147, 255),\n",
              " (146, 255),\n",
              " (146, 255),\n",
              " (147, 255),\n",
              " (148, 255),\n",
              " (148, 255),\n",
              " (149, 255),\n",
              " (147, 255),\n",
              " (145, 255),\n",
              " (145, 255),\n",
              " (146, 255),\n",
              " (146, 255),\n",
              " (146, 255),\n",
              " (147, 255),\n",
              " (147, 255),\n",
              " (149, 255),\n",
              " (149, 255),\n",
              " (147, 255),\n",
              " (147, 255),\n",
              " (146, 255),\n",
              " (143, 255),\n",
              " (143, 255),\n",
              " (148, 255),\n",
              " (148, 255),\n",
              " (146, 255),\n",
              " (146, 255),\n",
              " (148, 255),\n",
              " (151, 255),\n",
              " (149, 255),\n",
              " (146, 255),\n",
              " (145, 255),\n",
              " (145, 255),\n",
              " (150, 255),\n",
              " (151, 255),\n",
              " (147, 255),\n",
              " (148, 255),\n",
              " (152, 255),\n",
              " (151, 255),\n",
              " (148, 255),\n",
              " (145, 255),\n",
              " (144, 255),\n",
              " (144, 255),\n",
              " (146, 255),\n",
              " (148, 255),\n",
              " (148, 255),\n",
              " (146, 255),\n",
              " (145, 255),\n",
              " (147, 255),\n",
              " (146, 255),\n",
              " (147, 255),\n",
              " (149, 255),\n",
              " (148, 255),\n",
              " (146, 255),\n",
              " (146, 255),\n",
              " (146, 255),\n",
              " (144, 255),\n",
              " (141, 255),\n",
              " (140, 255),\n",
              " (143, 255),\n",
              " (148, 255),\n",
              " (149, 255),\n",
              " (148, 255),\n",
              " (149, 255),\n",
              " (150, 255),\n",
              " (149, 255),\n",
              " (145, 255),\n",
              " (145, 255),\n",
              " (144, 255),\n",
              " (144, 255),\n",
              " (144, 255),\n",
              " (143, 255),\n",
              " (149, 255),\n",
              " (147, 255),\n",
              " (147, 255),\n",
              " (146, 255),\n",
              " (148, 255),\n",
              " (147, 255),\n",
              " (148, 255),\n",
              " (147, 255),\n",
              " (145, 255),\n",
              " (146, 255),\n",
              " (146, 255),\n",
              " (145, 255),\n",
              " (145, 255),\n",
              " (145, 255),\n",
              " (145, 255),\n",
              " (145, 255),\n",
              " (147, 255),\n",
              " (147, 255),\n",
              " (145, 255),\n",
              " (142, 255),\n",
              " (142, 255),\n",
              " (144, 255),\n",
              " (145, 255),\n",
              " (144, 255),\n",
              " (145, 255),\n",
              " (144, 255),\n",
              " (144, 255),\n",
              " (142, 255),\n",
              " (144, 255),\n",
              " (145, 255),\n",
              " (142, 255),\n",
              " (144, 255),\n",
              " (146, 255),\n",
              " (145, 255),\n",
              " (144, 255),\n",
              " (143, 255),\n",
              " (142, 255),\n",
              " (141, 255),\n",
              " (143, 255),\n",
              " (145, 255),\n",
              " (143, 255),\n",
              " (143, 255),\n",
              " (144, 255),\n",
              " (143, 255),\n",
              " (141, 255),\n",
              " (141, 255),\n",
              " (143, 255),\n",
              " (143, 255),\n",
              " (143, 255),\n",
              " (142, 255),\n",
              " (143, 255),\n",
              " (141, 255),\n",
              " (137, 255),\n",
              " (140, 255),\n",
              " (144, 255),\n",
              " (145, 255),\n",
              " (142, 255),\n",
              " (145, 255),\n",
              " (144, 255),\n",
              " (142, 255),\n",
              " (143, 255),\n",
              " (145, 255),\n",
              " (145, 255),\n",
              " (145, 255),\n",
              " (143, 255),\n",
              " (141, 255),\n",
              " (145, 255),\n",
              " (146, 255),\n",
              " (141, 255),\n",
              " (140, 255),\n",
              " (143, 255),\n",
              " (142, 255),\n",
              " (142, 255),\n",
              " (143, 255),\n",
              " (143, 255),\n",
              " (141, 255),\n",
              " (140, 255),\n",
              " (141, 255),\n",
              " (141, 255),\n",
              " (139, 255),\n",
              " (143, 255),\n",
              " (142, 255),\n",
              " (142, 255),\n",
              " (142, 255),\n",
              " (142, 255),\n",
              " (142, 255),\n",
              " (140, 255),\n",
              " (140, 255),\n",
              " (140, 255),\n",
              " (142, 255),\n",
              " (143, 255),\n",
              " (143, 255),\n",
              " (142, 255),\n",
              " (141, 255),\n",
              " (141, 255),\n",
              " (141, 255),\n",
              " (139, 255),\n",
              " (138, 255),\n",
              " (140, 255),\n",
              " (143, 255),\n",
              " (142, 255),\n",
              " (141, 255),\n",
              " (143, 255),\n",
              " (141, 255),\n",
              " (141, 255),\n",
              " (140, 255),\n",
              " (140, 255),\n",
              " (141, 255),\n",
              " (141, 255),\n",
              " (141, 255),\n",
              " (141, 255),\n",
              " (141, 255),\n",
              " (140, 255),\n",
              " (141, 255),\n",
              " (144, 255),\n",
              " (145, 255),\n",
              " (142, 255),\n",
              " (139, 255),\n",
              " (139, 255),\n",
              " (140, 255),\n",
              " (140, 255),\n",
              " (140, 255),\n",
              " (140, 255),\n",
              " (140, 255),\n",
              " (139, 255),\n",
              " (139, 255),\n",
              " (140, 255),\n",
              " (139, 255),\n",
              " (138, 255),\n",
              " (137, 255),\n",
              " (139, 255),\n",
              " (139, 255),\n",
              " (137, 255),\n",
              " (140, 255),\n",
              " (145, 255),\n",
              " (145, 255),\n",
              " (138, 255),\n",
              " (134, 255),\n",
              " (138, 255),\n",
              " (141, 255),\n",
              " (139, 255),\n",
              " (139, 255),\n",
              " (137, 255),\n",
              " (139, 255),\n",
              " (142, 255),\n",
              " (141, 255),\n",
              " (139, 255),\n",
              " (139, 255),\n",
              " (140, 255),\n",
              " (142, 255),\n",
              " (142, 255),\n",
              " (141, 255),\n",
              " (139, 255),\n",
              " (140, 255),\n",
              " (141, 255),\n",
              " (141, 255),\n",
              " (140, 255),\n",
              " (140, 255),\n",
              " (140, 255),\n",
              " (140, 255),\n",
              " (144, 255),\n",
              " (144, 255),\n",
              " (145, 255),\n",
              " (142, 255),\n",
              " (137, 255),\n",
              " (139, 255),\n",
              " (143, 255),\n",
              " (140, 255),\n",
              " (138, 255),\n",
              " (142, 255),\n",
              " (144, 255),\n",
              " (141, 255),\n",
              " (138, 255),\n",
              " (138, 255),\n",
              " (139, 255),\n",
              " (138, 255),\n",
              " (138, 255),\n",
              " (139, 255),\n",
              " (140, 255),\n",
              " (140, 255),\n",
              " (140, 255),\n",
              " (139, 255),\n",
              " (139, 255),\n",
              " (140, 255),\n",
              " (142, 255),\n",
              " (140, 255),\n",
              " (139, 255),\n",
              " (140, 255),\n",
              " (140, 255),\n",
              " (137, 255),\n",
              " (135, 255),\n",
              " (135, 255),\n",
              " (137, 255),\n",
              " (138, 255),\n",
              " (139, 255),\n",
              " (139, 255),\n",
              " (140, 255),\n",
              " (140, 255),\n",
              " (137, 255),\n",
              " (135, 255),\n",
              " (134, 255),\n",
              " (139, 255),\n",
              " (142, 255),\n",
              " (141, 255),\n",
              " (139, 255),\n",
              " (139, 255),\n",
              " (139, 255),\n",
              " (139, 255),\n",
              " (137, 255),\n",
              " (137, 255),\n",
              " (137, 255),\n",
              " (139, 255),\n",
              " (142, 255),\n",
              " (141, 255),\n",
              " (137, 255),\n",
              " (134, 255),\n",
              " (138, 255),\n",
              " (138, 255),\n",
              " (141, 255),\n",
              " (141, 255),\n",
              " (144, 255),\n",
              " (139, 255),\n",
              " (140, 255),\n",
              " (142, 255),\n",
              " (141, 255),\n",
              " (139, 255),\n",
              " (138, 255),\n",
              " (136, 255),\n",
              " (137, 255),\n",
              " (139, 255),\n",
              " (141, 255),\n",
              " (140, 255),\n",
              " (137, 255),\n",
              " (137, 255),\n",
              " (138, 255),\n",
              " (141, 255),\n",
              " (139, 255),\n",
              " (135, 255),\n",
              " (136, 255),\n",
              " (137, 255),\n",
              " (137, 255),\n",
              " (141, 255),\n",
              " (141, 255),\n",
              " (141, 255),\n",
              " (139, 255),\n",
              " (137, 255),\n",
              " (140, 255),\n",
              " (142, 255),\n",
              " (141, 255),\n",
              " (138, 255),\n",
              " (138, 255),\n",
              " (139, 255),\n",
              " (139, 255),\n",
              " (140, 255),\n",
              " (141, 255),\n",
              " (141, 255),\n",
              " (138, 255),\n",
              " (135, 255),\n",
              " (135, 255),\n",
              " (138, 255),\n",
              " (137, 255),\n",
              " (135, 255),\n",
              " (136, 255),\n",
              " (136, 255),\n",
              " (136, 255),\n",
              " (139, 255),\n",
              " (141, 255),\n",
              " (139, 255),\n",
              " (135, 255),\n",
              " (135, 255),\n",
              " (139, 255),\n",
              " (140, 255),\n",
              " (140, 255),\n",
              " (140, 255),\n",
              " (139, 255),\n",
              " (140, 255),\n",
              " (141, 255),\n",
              " (140, 255),\n",
              " (138, 255),\n",
              " (139, 255),\n",
              " (139, 255),\n",
              " (139, 255),\n",
              " (139, 255),\n",
              " (139, 255),\n",
              " (139, 255),\n",
              " (138, 255),\n",
              " (138, 255),\n",
              " (139, 255),\n",
              " (139, 255),\n",
              " (139, 255),\n",
              " (140, 255),\n",
              " (140, 255),\n",
              " (141, 255),\n",
              " (141, 255),\n",
              " (138, 255),\n",
              " (134, 255),\n",
              " (137, 255),\n",
              " (142, 255),\n",
              " (142, 255),\n",
              " (139, 255),\n",
              " (137, 255),\n",
              " (137, 255),\n",
              " (138, 255),\n",
              " (141, 255),\n",
              " (139, 255),\n",
              " (137, 255),\n",
              " (137, 255),\n",
              " (138, 255),\n",
              " (137, 255),\n",
              " (136, 255),\n",
              " (138, 255),\n",
              " (141, 255),\n",
              " (134, 255),\n",
              " (137, 255),\n",
              " (140, 255),\n",
              " (141, 255),\n",
              " (140, 255),\n",
              " (141, 255),\n",
              " (140, 255),\n",
              " (139, 255),\n",
              " (141, 255),\n",
              " (142, 255),\n",
              " (142, 255),\n",
              " (141, 255),\n",
              " (139, 255),\n",
              " (138, 255),\n",
              " (137, 255),\n",
              " (138, 255),\n",
              " (140, 255),\n",
              " (142, 255),\n",
              " (140, 255),\n",
              " (135, 255),\n",
              " (134, 255),\n",
              " (138, 255),\n",
              " (141, 255),\n",
              " (140, 255),\n",
              " (140, 255),\n",
              " (140, 255),\n",
              " (143, 255),\n",
              " (143, 255),\n",
              " (142, 255),\n",
              " (139, 255),\n",
              " (134, 255),\n",
              " (132, 255),\n",
              " (134, 255),\n",
              " (135, 255),\n",
              " (137, 255),\n",
              " (138, 255),\n",
              " (139, 255),\n",
              " (142, 255),\n",
              " (142, 255),\n",
              " (139, 255),\n",
              " (138, 255),\n",
              " (140, 255),\n",
              " (140, 255),\n",
              " (136, 255),\n",
              " (134, 255),\n",
              " (139, 255),\n",
              " (144, 255),\n",
              " (143, 255),\n",
              " (146, 255),\n",
              " (146, 255),\n",
              " (145, 255),\n",
              " (140, 255),\n",
              " (138, 255),\n",
              " (141, 255),\n",
              " (144, 255),\n",
              " (142, 255),\n",
              " (141, 255),\n",
              " (140, 255),\n",
              " (139, 255),\n",
              " (140, 255),\n",
              " (142, 255),\n",
              " (144, 255),\n",
              " (145, 255),\n",
              " (146, 255),\n",
              " (142, 255),\n",
              " (141, 255),\n",
              " (143, 255),\n",
              " (142, 255),\n",
              " (139, 255),\n",
              " (141, 255),\n",
              " (143, 255),\n",
              " (141, 255),\n",
              " (144, 255),\n",
              " (144, 255),\n",
              " (142, 255),\n",
              " (140, 255),\n",
              " (140, 255),\n",
              " (140, 255),\n",
              " (141, 255),\n",
              " (144, 255),\n",
              " (145, 255),\n",
              " (141, 255),\n",
              " (139, 255),\n",
              " (137, 255),\n",
              " (136, 255),\n",
              " (139, 255),\n",
              " (143, 255),\n",
              " (145, 255),\n",
              " (144, 255),\n",
              " (143, 255),\n",
              " (143, 255),\n",
              " (144, 255),\n",
              " (143, 255),\n",
              " (140, 255),\n",
              " (139, 255),\n",
              " (139, 255),\n",
              " (140, 255),\n",
              " (142, 255),\n",
              " (142, 255),\n",
              " (140, 255),\n",
              " (143, 255),\n",
              " (144, 255),\n",
              " (141, 255),\n",
              " (146, 255),\n",
              " (144, 255),\n",
              " (146, 255),\n",
              " (144, 255),\n",
              " (143, 255),\n",
              " (142, 255),\n",
              " (139, 255),\n",
              " (141, 255),\n",
              " (144, 255),\n",
              " (144, 255),\n",
              " (145, 255),\n",
              " (144, 255),\n",
              " (143, 255),\n",
              " (143, 255),\n",
              " (143, 255),\n",
              " (143, 255),\n",
              " (143, 255),\n",
              " (149, 255),\n",
              " (144, 255),\n",
              " (140, 255),\n",
              " (141, 255),\n",
              " (142, 255),\n",
              " (141, 255),\n",
              " (141, 255),\n",
              " (142, 255),\n",
              " (140, 255),\n",
              " (140, 255),\n",
              " (137, 255),\n",
              " (140, 255),\n",
              " (142, 255),\n",
              " (140, 255),\n",
              " (143, 255),\n",
              " (144, 255),\n",
              " (144, 255),\n",
              " (145, 255),\n",
              " (143, 255),\n",
              " (144, 255),\n",
              " (148, 255),\n",
              " (148, 255),\n",
              " (147, 255),\n",
              " (148, 255),\n",
              " (148, 255),\n",
              " (144, 255),\n",
              " (140, 255),\n",
              " (142, 255),\n",
              " (144, 255),\n",
              " (144, 255),\n",
              " (145, 255),\n",
              " (146, 255),\n",
              " (146, 255),\n",
              " (144, 255),\n",
              " (143, 255),\n",
              " (144, 255),\n",
              " (145, 255),\n",
              " (144, 255),\n",
              " (144, 255),\n",
              " (145, 255),\n",
              " (142, 255),\n",
              " (141, 255),\n",
              " (144, 255),\n",
              " (144, 255),\n",
              " (140, 255),\n",
              " (141, 255),\n",
              " (145, 255),\n",
              " (144, 255),\n",
              " (143, 255),\n",
              " (139, 255),\n",
              " (138, 255),\n",
              " (143, 255),\n",
              " (145, 255),\n",
              " (144, 255),\n",
              " (141, 255),\n",
              " (140, 255),\n",
              " (146, 255),\n",
              " (146, 255),\n",
              " (143, 255),\n",
              " (143, 255),\n",
              " (146, 255),\n",
              " (147, 255),\n",
              " (145, 255),\n",
              " (145, 255),\n",
              " (142, 255),\n",
              " (140, 255),\n",
              " (142, 255),\n",
              " (141, 255),\n",
              " (141, 255),\n",
              " (142, 255),\n",
              " (140, 255),\n",
              " (143, 255),\n",
              " (143, 255),\n",
              " (143, 255),\n",
              " (142, 255),\n",
              " (142, 255),\n",
              " (142, 255),\n",
              " (141, 255),\n",
              " (141, 255),\n",
              " (143, 255),\n",
              " (147, 255),\n",
              " (144, 255),\n",
              " (143, 255),\n",
              " (142, 255),\n",
              " (144, 255),\n",
              " (145, 255),\n",
              " (143, 255),\n",
              " (143, 255),\n",
              " (147, 255),\n",
              " (146, 255),\n",
              " (145, 255),\n",
              " (144, 255),\n",
              " (144, 255),\n",
              " (145, 255),\n",
              " (145, 255),\n",
              " (145, 255),\n",
              " (146, 255),\n",
              " (146, 255),\n",
              " (144, 255),\n",
              " (142, 255),\n",
              " (142, 255),\n",
              " (141, 255),\n",
              " (140, 255),\n",
              " (141, 255),\n",
              " (142, 255),\n",
              " (142, 255),\n",
              " (141, 255),\n",
              " (141, 255),\n",
              " (143, 255),\n",
              " (147, 255),\n",
              " (146, 255),\n",
              " (143, 255),\n",
              " (146, 255),\n",
              " (145, 255),\n",
              " (143, 255),\n",
              " (143, 255),\n",
              " (145, 255),\n",
              " (145, 255),\n",
              " (143, 255),\n",
              " (142, 255),\n",
              " (143, 255),\n",
              " (143, 255),\n",
              " (141, 255),\n",
              " (139, 255),\n",
              " (140, 255),\n",
              " (144, 255),\n",
              " (146, 255),\n",
              " (145, 255),\n",
              " (146, 255),\n",
              " (141, 255),\n",
              " (136, 255),\n",
              " (137, 255),\n",
              " (141, 255),\n",
              " (143, 255),\n",
              " (141, 255),\n",
              " (140, 255),\n",
              " (144, 255),\n",
              " (140, 255),\n",
              " (142, 255),\n",
              " (145, 255),\n",
              " (143, 255),\n",
              " (141, 255),\n",
              " (139, 255),\n",
              " (136, 255),\n",
              " (134, 255),\n",
              " (140, 255),\n",
              " (144, 255),\n",
              " (143, 255),\n",
              " (140, 255),\n",
              " (138, 255),\n",
              " (137, 255),\n",
              " (136, 255),\n",
              " (138, 255),\n",
              " (139, 255),\n",
              " (141, 255),\n",
              " (142, 255),\n",
              " (140, 255),\n",
              " (137, 255),\n",
              " (136, 255),\n",
              " (138, 255),\n",
              " (139, 255),\n",
              " (139, 255),\n",
              " (140, 255),\n",
              " (141, 255),\n",
              " (141, 255),\n",
              " (138, 255),\n",
              " (136, 255),\n",
              " (136, 255),\n",
              " (140, 255),\n",
              " (140, 255),\n",
              " (137, 255),\n",
              " (135, 255),\n",
              " (134, 255),\n",
              " (134, 255),\n",
              " (138, 255),\n",
              " (140, 255),\n",
              " (140, 255),\n",
              " (141, 255),\n",
              " (143, 255),\n",
              " (140, 255),\n",
              " (135, 255),\n",
              " (137, 255),\n",
              " (141, 255),\n",
              " (139, 255),\n",
              " (139, 255),\n",
              " (138, 255),\n",
              " (138, 255),\n",
              " (138, 255),\n",
              " (139, 255),\n",
              " (139, 255),\n",
              " (140, 255),\n",
              " (142, 255),\n",
              " (141, 255),\n",
              " (138, 255),\n",
              " (135, 255),\n",
              " (134, 255),\n",
              " (136, 255),\n",
              " (137, 255),\n",
              " (140, 255),\n",
              " (144, 255),\n",
              " (141, 255),\n",
              " (135, 255),\n",
              " (134, 255),\n",
              " (138, 255),\n",
              " (139, 255),\n",
              " (136, 255),\n",
              " (135, 255),\n",
              " (135, 255),\n",
              " (139, 255),\n",
              " (140, 255),\n",
              " (139, 255),\n",
              " (139, 255),\n",
              " (142, 255),\n",
              " (142, 255),\n",
              " (136, 255),\n",
              " (135, 255),\n",
              " (139, 255),\n",
              " (139, 255),\n",
              " (140, 255),\n",
              " (141, 255),\n",
              " (139, 255),\n",
              " (137, 255),\n",
              " (137, 255),\n",
              " (140, 255),\n",
              " (143, 255),\n",
              " (137, 255),\n",
              " (136, 255),\n",
              " (138, 255),\n",
              " (138, 255),\n",
              " (137, 255),\n",
              " (135, 255),\n",
              " (134, 255),\n",
              " (134, 255),\n",
              " (136, 255),\n",
              " (138, 255),\n",
              " (138, 255),\n",
              " (138, 255),\n",
              " (136, 255),\n",
              " (134, 255),\n",
              " (133, 255),\n",
              " (134, 255),\n",
              " (140, 255),\n",
              " (141, 255),\n",
              " (136, 255),\n",
              " (134, 255),\n",
              " (137, 255),\n",
              " (139, 255),\n",
              " (138, 255),\n",
              " (137, 255),\n",
              " (135, 255),\n",
              " (133, 255),\n",
              " (135, 255),\n",
              " (138, 255),\n",
              " (139, 255),\n",
              " (137, 255),\n",
              " (136, 255),\n",
              " (138, 255),\n",
              " (136, 255),\n",
              " (136, 255),\n",
              " (139, 255),\n",
              " (140, 255),\n",
              " (139, 255),\n",
              " (138, 255),\n",
              " (138, 255),\n",
              " (132, 255),\n",
              " (135, 255),\n",
              " (139, 255),\n",
              " (140, 255),\n",
              " (137, 255),\n",
              " (134, 255),\n",
              " (135, 255),\n",
              " (137, 255),\n",
              " (138, 255),\n",
              " (137, 255),\n",
              " (137, 255),\n",
              " (139, 255),\n",
              " (138, 255),\n",
              " (135, 255),\n",
              " (137, 255),\n",
              " (142, 255),\n",
              " (141, 255),\n",
              " (137, 255),\n",
              " (135, 255),\n",
              " (133, 255),\n",
              " (135, 255),\n",
              " (137, 255),\n",
              " (135, 255),\n",
              " (136, 255),\n",
              " (143, 255),\n",
              " (142, 255),\n",
              " (137, 255),\n",
              " (138, 255),\n",
              " (142, 255),\n",
              " (136, 255),\n",
              " (131, 255),\n",
              " (139, 255),\n",
              " (133, 255),\n",
              " (132, 255),\n",
              " (134, 255),\n",
              " (137, 255),\n",
              " (140, 255),\n",
              " (139, 255),\n",
              " (137, 255),\n",
              " (139, 255),\n",
              " (139, 255),\n",
              " (139, 255),\n",
              " (137, 255),\n",
              " (137, 255),\n",
              " (138, 255),\n",
              " (136, 255),\n",
              " (134, 255),\n",
              " (134, 255),\n",
              " (136, 255),\n",
              " (138, 255),\n",
              " (136, 255),\n",
              " (137, 255),\n",
              " (142, 255),\n",
              " (140, 255),\n",
              " (134, 255),\n",
              " (131, 255),\n",
              " (134, 255),\n",
              " (136, 255),\n",
              " (139, 255),\n",
              " (140, 255),\n",
              " (141, 255),\n",
              " (139, 255),\n",
              " (138, 255),\n",
              " (138, 255),\n",
              " (141, 255),\n",
              " (136, 255),\n",
              " (133, 255),\n",
              " (133, 255),\n",
              " (133, 255),\n",
              " (134, 255),\n",
              " (136, 255),\n",
              " (137, 255),\n",
              " (135, 255),\n",
              " (137, 255),\n",
              " (139, 255),\n",
              " (140, 255),\n",
              " (141, 255),\n",
              " (140, 255),\n",
              " (140, 255),\n",
              " (139, 255),\n",
              " (140, 255),\n",
              " (137, 255),\n",
              " (138, 255),\n",
              " (138, 255),\n",
              " (139, 255),\n",
              " (138, 255),\n",
              " (134, 255),\n",
              " (137, 255),\n",
              " (139, 255),\n",
              " (140, 255),\n",
              " (137, 255),\n",
              " (135, 255),\n",
              " (135, 255),\n",
              " (133, 255),\n",
              " (133, 255),\n",
              " (133, 255),\n",
              " (132, 255),\n",
              " (132, 255),\n",
              " (132, 255),\n",
              " (135, 255),\n",
              " (136, 255),\n",
              " (136, 255),\n",
              " (137, 255),\n",
              " (137, 255),\n",
              " (141, 255),\n",
              " (137, 255),\n",
              " (137, 255),\n",
              " (138, 255),\n",
              " (137, 255),\n",
              " (137, 255),\n",
              " (136, 255),\n",
              " (134, 255),\n",
              " (131, 255),\n",
              " (136, 255),\n",
              " (138, 255),\n",
              " (134, 255),\n",
              " (131, 255),\n",
              " (135, 255),\n",
              " (138, 255),\n",
              " (139, 255),\n",
              " (140, 255),\n",
              " (138, 255),\n",
              " (138, 255),\n",
              " (136, 255),\n",
              " (132, 255),\n",
              " (130, 255),\n",
              " (130, 255),\n",
              " (129, 255),\n",
              " (132, 255),\n",
              " (134, 255),\n",
              " (147, 255),\n",
              " (151, 255),\n",
              " (147, 255),\n",
              " (149, 255),\n",
              " (152, 255),\n",
              " (145, 255),\n",
              " (147, 255),\n",
              " (150, 255),\n",
              " (152, 255),\n",
              " (151, 255),\n",
              " (152, 255),\n",
              " (150, 255),\n",
              " (148, 255),\n",
              " (149, 255),\n",
              " (148, 255),\n",
              " (144, 255),\n",
              " (150, 255),\n",
              " (154, 255),\n",
              " (153, 255),\n",
              " (149, 255),\n",
              " (148, 255),\n",
              " (148, 255),\n",
              " (148, 255),\n",
              " (148, 255),\n",
              " (148, 255),\n",
              " (150, 255),\n",
              " (152, 255),\n",
              " (150, 255),\n",
              " (146, 255),\n",
              " (147, 255),\n",
              " (152, 255),\n",
              " (156, 255),\n",
              " (152, 255),\n",
              " (148, 255),\n",
              " (147, 255),\n",
              " (148, 255),\n",
              " (148, 255),\n",
              " (147, 255),\n",
              " (146, 255),\n",
              " (147, 255),\n",
              " (147, 255),\n",
              " (148, 255),\n",
              " (149, 255),\n",
              " (149, 255),\n",
              " (150, 255),\n",
              " (148, 255),\n",
              " (144, 255),\n",
              " (143, 255),\n",
              " (143, 255),\n",
              " (144, 255),\n",
              " (146, 255),\n",
              " (147, 255),\n",
              " (148, 255),\n",
              " (149, 255),\n",
              " (149, 255),\n",
              " ...]"
            ]
          },
          "metadata": {
            "tags": []
          },
          "execution_count": 14
        }
      ]
    },
    {
      "metadata": {
        "id": "b0pkAPfdoJ26",
        "colab_type": "code",
        "colab": {}
      },
      "cell_type": "code",
      "source": [
        ""
      ],
      "execution_count": 0,
      "outputs": []
    }
  ]
}