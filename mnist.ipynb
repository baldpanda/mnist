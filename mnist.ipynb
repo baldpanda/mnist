{
  "nbformat": 4,
  "nbformat_minor": 0,
  "metadata": {
    "colab": {
      "name": "mnist.ipynb",
      "version": "0.3.2",
      "provenance": [],
      "collapsed_sections": [],
      "include_colab_link": true
    },
    "kernelspec": {
      "name": "python3",
      "display_name": "Python 3"
    },
    "accelerator": "GPU"
  },
  "cells": [
    {
      "cell_type": "markdown",
      "metadata": {
        "id": "view-in-github",
        "colab_type": "text"
      },
      "source": [
        "<a href=\"https://colab.research.google.com/github/baldpanda/mnist/blob/experimenting-with-notebook/mnist.ipynb\" target=\"_parent\"><img src=\"https://colab.research.google.com/assets/colab-badge.svg\" alt=\"Open In Colab\"/></a>"
      ]
    },
    {
      "metadata": {
        "id": "x0c4zyAjAAif",
        "colab_type": "text"
      },
      "cell_type": "markdown",
      "source": [
        "# Learning TensorFlow and Keras- MNIST"
      ]
    },
    {
      "metadata": {
        "id": "BnlRaM4-cn1t",
        "colab_type": "text"
      },
      "cell_type": "markdown",
      "source": [
        "Taking the learnings from the Introduction to TensorFlow for AI, ML, and Deep Learning on Coursera and experimenting with them on the MNIST dataset. "
      ]
    },
    {
      "metadata": {
        "id": "U0-vHu17dPrU",
        "colab_type": "text"
      },
      "cell_type": "markdown",
      "source": [
        "**Note** - Collab gives the option of running notebook on GPU enabled machine. This seems to speed up training significantly."
      ]
    },
    {
      "metadata": {
        "id": "Mbpd_nu6piHS",
        "colab_type": "code",
        "outputId": "b65c2f75-8ef2-4706-bbfb-5c1841b96ac2",
        "colab": {
          "base_uri": "https://localhost:8080/",
          "height": 34
        }
      },
      "cell_type": "code",
      "source": [
        "import tensorflow as tf\n",
        "import matplotlib.pyplot as plt\n",
        "import numpy as np\n",
        "import random\n",
        "from google.colab import drive\n",
        "from PIL import Image\n",
        "print(tf.VERSION)"
      ],
      "execution_count": 1,
      "outputs": [
        {
          "output_type": "stream",
          "text": [
            "1.13.1\n"
          ],
          "name": "stdout"
        }
      ]
    },
    {
      "metadata": {
        "id": "ZVszehuXrrEW",
        "colab_type": "code",
        "colab": {}
      },
      "cell_type": "code",
      "source": [
        "random.seed(42)"
      ],
      "execution_count": 0,
      "outputs": []
    },
    {
      "metadata": {
        "id": "G0fbZPLNulco",
        "colab_type": "text"
      },
      "cell_type": "markdown",
      "source": [
        "Keras comes with a number of inbuilt datasets. These include:\n",
        "\n",
        "*   CIFAR10 AND CIFAR100 image classification (50,000 images with 10 and 100 different classes respectively)\n",
        "*   MNIST\n",
        "*   Fashion MNIST\n",
        "*   Boston Housing Regression Dataset\n",
        "\n",
        "\n"
      ]
    },
    {
      "metadata": {
        "id": "Mzu96hilqJry",
        "colab_type": "code",
        "colab": {}
      },
      "cell_type": "code",
      "source": [
        "mnist = tf.keras.datasets.mnist"
      ],
      "execution_count": 0,
      "outputs": []
    },
    {
      "metadata": {
        "id": "4jySI0XHvfyX",
        "colab_type": "code",
        "outputId": "575e052b-a37b-4675-8f65-0decf90cc0a8",
        "colab": {
          "base_uri": "https://localhost:8080/",
          "height": 51
        }
      },
      "cell_type": "code",
      "source": [
        "(X_train, y_train), (X_test, y_test) = mnist.load_data()"
      ],
      "execution_count": 4,
      "outputs": [
        {
          "output_type": "stream",
          "text": [
            "Downloading data from https://storage.googleapis.com/tensorflow/tf-keras-datasets/mnist.npz\n",
            "11493376/11490434 [==============================] - 0s 0us/step\n"
          ],
          "name": "stdout"
        }
      ]
    },
    {
      "metadata": {
        "id": "GeBmOw7wv0Id",
        "colab_type": "code",
        "outputId": "bd5acf2a-09f6-4fed-f059-373cd3a19fda",
        "colab": {
          "base_uri": "https://localhost:8080/",
          "height": 34
        }
      },
      "cell_type": "code",
      "source": [
        "print('The training data has shape: {}.'.format(X_train.shape))"
      ],
      "execution_count": 5,
      "outputs": [
        {
          "output_type": "stream",
          "text": [
            "The training data has shape: (60000, 28, 28).\n"
          ],
          "name": "stdout"
        }
      ]
    },
    {
      "metadata": {
        "id": "E9zpKKfgv9xV",
        "colab_type": "code",
        "outputId": "f2f87be7-48d8-4645-d1f8-708c871464b6",
        "colab": {
          "base_uri": "https://localhost:8080/",
          "height": 34
        }
      },
      "cell_type": "code",
      "source": [
        "print('The testing data has size: {}.'.format(X_test.shape[0]))"
      ],
      "execution_count": 6,
      "outputs": [
        {
          "output_type": "stream",
          "text": [
            "The testing data has size: 10000.\n"
          ],
          "name": "stdout"
        }
      ]
    },
    {
      "metadata": {
        "id": "_HBwTl3UXByI",
        "colab_type": "text"
      },
      "cell_type": "markdown",
      "source": [
        "Plotting an image from the training data sampled at random."
      ]
    },
    {
      "metadata": {
        "id": "3q4PwBWp4WeW",
        "colab_type": "code",
        "outputId": "a9d1cba7-166b-4760-ada9-d67a58690737",
        "colab": {
          "base_uri": "https://localhost:8080/",
          "height": 281
        }
      },
      "cell_type": "code",
      "source": [
        "number_to_plot = random.randint(0,X_train.shape[0])\n",
        "plt.title(\"Image label: {}\".format(y_train[number_to_plot]))\n",
        "plt.imshow(X_train[number_to_plot])\n",
        "plt.show()"
      ],
      "execution_count": 7,
      "outputs": [
        {
          "output_type": "display_data",
          "data": {
            "image/png": "[encoded data removed]",
            "text/plain": [
              "<Figure size 432x288 with 1 Axes>"
            ]
          },
          "metadata": {
            "tags": []
          }
        }
      ]
    },
    {
      "metadata": {
        "id": "jSYhuzWvlD_m",
        "colab_type": "code",
        "outputId": "eb96b6f3-a449-47fe-bc1a-021c00f1ef1b",
        "colab": {
          "base_uri": "https://localhost:8080/",
          "height": 34
        }
      },
      "cell_type": "code",
      "source": [
        "X_train[number_to_plot].shape"
      ],
      "execution_count": 8,
      "outputs": [
        {
          "output_type": "execute_result",
          "data": {
            "text/plain": [
              "(28, 28)"
            ]
          },
          "metadata": {
            "tags": []
          },
          "execution_count": 8
        }
      ]
    },
    {
      "metadata": {
        "id": "YKllN4s2wnlP",
        "colab_type": "text"
      },
      "cell_type": "markdown",
      "source": [
        "Normalising the data "
      ]
    },
    {
      "metadata": {
        "id": "ZkAzH_Hux_gc",
        "colab_type": "code",
        "colab": {}
      },
      "cell_type": "code",
      "source": [
        "X_train = X_train / 255.0\n",
        "X_test = X_test / 255.0"
      ],
      "execution_count": 0,
      "outputs": []
    },
    {
      "metadata": {
        "id": "mGeKryvBY_p_",
        "colab_type": "text"
      },
      "cell_type": "markdown",
      "source": [
        "# Building a fully connected neural network and fitting on the training data"
      ]
    },
    {
      "metadata": {
        "id": "pmq3msBQwxng",
        "colab_type": "code",
        "colab": {}
      },
      "cell_type": "code",
      "source": [
        "model = tf.keras.Sequential([\n",
        "    tf.keras.layers.Flatten(),\n",
        "    tf.keras.layers.Dense(128, activation = tf.nn.relu),\n",
        "    tf.keras.layers.Dense(10, activation = tf.nn.softmax)\n",
        "])"
      ],
      "execution_count": 0,
      "outputs": []
    },
    {
      "metadata": {
        "id": "69Buq1OyxRsL",
        "colab_type": "code",
        "outputId": "35b3b869-6d6b-45c3-a947-61548f23c7ae",
        "colab": {
          "base_uri": "https://localhost:8080/",
          "height": 88
        }
      },
      "cell_type": "code",
      "source": [
        "model.compile(optimizer=tf.train.AdamOptimizer(),\n",
        "             loss='sparse_categorical_crossentropy',\n",
        "             metrics=['accuracy'])"
      ],
      "execution_count": 11,
      "outputs": [
        {
          "output_type": "stream",
          "text": [
            "WARNING:tensorflow:From /usr/local/lib/python3.6/dist-packages/tensorflow/python/ops/resource_variable_ops.py:435: colocate_with (from tensorflow.python.framework.ops) is deprecated and will be removed in a future version.\n",
            "Instructions for updating:\n",
            "Colocations handled automatically by placer.\n"
          ],
          "name": "stdout"
        }
      ]
    },
    {
      "metadata": {
        "id": "NNVzXsmvxT1Y",
        "colab_type": "code",
        "outputId": "2947edf0-f6da-422b-cfa5-60d4aa5b6bc6",
        "colab": {
          "base_uri": "https://localhost:8080/",
          "height": 204
        }
      },
      "cell_type": "code",
      "source": [
        "model.fit(X_train, y_train, epochs=5)"
      ],
      "execution_count": 12,
      "outputs": [
        {
          "output_type": "stream",
          "text": [
            "Epoch 1/5\n",
            "60000/60000 [==============================] - 5s 82us/sample - loss: 0.2555 - acc: 0.9267\n",
            "Epoch 2/5\n",
            "60000/60000 [==============================] - 4s 67us/sample - loss: 0.1117 - acc: 0.9670\n",
            "Epoch 3/5\n",
            "60000/60000 [==============================] - 4s 68us/sample - loss: 0.0781 - acc: 0.9762\n",
            "Epoch 4/5\n",
            "60000/60000 [==============================] - 5s 75us/sample - loss: 0.0581 - acc: 0.9826\n",
            "Epoch 5/5\n",
            "60000/60000 [==============================] - 5s 77us/sample - loss: 0.0455 - acc: 0.9861\n"
          ],
          "name": "stdout"
        },
        {
          "output_type": "execute_result",
          "data": {
            "text/plain": [
              "<tensorflow.python.keras.callbacks.History at 0x7f029504eb38>"
            ]
          },
          "metadata": {
            "tags": []
          },
          "execution_count": 12
        }
      ]
    },
    {
      "metadata": {
        "id": "WjQrfs1vCnhd",
        "colab_type": "code",
        "outputId": "7d7c3551-6c2e-48f8-b0ed-682fbc1f2c4a",
        "colab": {
          "base_uri": "https://localhost:8080/",
          "height": 238
        }
      },
      "cell_type": "code",
      "source": [
        "model.summary()"
      ],
      "execution_count": 13,
      "outputs": [
        {
          "output_type": "stream",
          "text": [
            "_________________________________________________________________\n",
            "Layer (type)                 Output Shape              Param #   \n",
            "=================================================================\n",
            "flatten (Flatten)            multiple                  0         \n",
            "_________________________________________________________________\n",
            "dense (Dense)                multiple                  100480    \n",
            "_________________________________________________________________\n",
            "dense_1 (Dense)              multiple                  1290      \n",
            "=================================================================\n",
            "Total params: 101,770\n",
            "Trainable params: 101,770\n",
            "Non-trainable params: 0\n",
            "_________________________________________________________________\n"
          ],
          "name": "stdout"
        }
      ]
    },
    {
      "metadata": {
        "id": "cmnFC9lvy3s2",
        "colab_type": "code",
        "outputId": "a9469214-c957-458d-d76d-0980580acb37",
        "colab": {
          "base_uri": "https://localhost:8080/",
          "height": 51
        }
      },
      "cell_type": "code",
      "source": [
        "model.evaluate(X_test, y_test)"
      ],
      "execution_count": 14,
      "outputs": [
        {
          "output_type": "stream",
          "text": [
            "10000/10000 [==============================] - 1s 57us/sample - loss: 0.0742 - acc: 0.9780\n"
          ],
          "name": "stdout"
        },
        {
          "output_type": "execute_result",
          "data": {
            "text/plain": [
              "[0.07418043108503335, 0.978]"
            ]
          },
          "metadata": {
            "tags": []
          },
          "execution_count": 14
        }
      ]
    },
    {
      "metadata": {
        "id": "HXHE-6AqzH9H",
        "colab_type": "text"
      },
      "cell_type": "markdown",
      "source": [
        "Building a basic 2 layer fully connected NN that achieves 97.8% accuracy on the test data. "
      ]
    },
    {
      "metadata": {
        "id": "7U314rfgAQW-",
        "colab_type": "text"
      },
      "cell_type": "markdown",
      "source": [
        "Adding callback function, which stops training once the model achieves an accuracy of xx.x% on the training data and adding an extra layer to the NN."
      ]
    },
    {
      "metadata": {
        "id": "OyVkZHZa_90n",
        "colab_type": "code",
        "colab": {}
      },
      "cell_type": "code",
      "source": [
        "class myCallback(tf.keras.callbacks.Callback):  \n",
        "  def on_epoch_end(self, epoch, logs={}):\n",
        "    if logs.get('acc') > 0.999:\n",
        "      print(\"\\nYou've exceded an accuracy of 99.9%\")\n",
        "      self.model.stop_training = True  "
      ],
      "execution_count": 0,
      "outputs": []
    },
    {
      "metadata": {
        "id": "aDgez5U4Bhr6",
        "colab_type": "code",
        "colab": {}
      },
      "cell_type": "code",
      "source": [
        "callbacks = myCallback()"
      ],
      "execution_count": 0,
      "outputs": []
    },
    {
      "metadata": {
        "id": "YpLEKg4ABnqi",
        "colab_type": "code",
        "colab": {}
      },
      "cell_type": "code",
      "source": [
        "two_layer_network = tf.keras.Sequential([\n",
        "    tf.keras.layers.Flatten(),\n",
        "    tf.keras.layers.Dense(512, activation=\"relu\"),\n",
        "    tf.keras.layers.Dense(128, activation=\"relu\"),\n",
        "    tf.keras.layers.Dense(10, activation=\"softmax\")\n",
        "])"
      ],
      "execution_count": 0,
      "outputs": []
    },
    {
      "metadata": {
        "id": "X0K6n_TxCjQp",
        "colab_type": "code",
        "colab": {}
      },
      "cell_type": "code",
      "source": [
        "two_layer_network.compile(optimizer=tf.train.AdamOptimizer(),\n",
        "                         loss='sparse_categorical_crossentropy',\n",
        "                         metrics=['accuracy'])"
      ],
      "execution_count": 0,
      "outputs": []
    },
    {
      "metadata": {
        "id": "ZqEsxwbDDUvL",
        "colab_type": "code",
        "outputId": "9d5de29a-d8f7-4d63-c8d4-500e2d87f709",
        "colab": {
          "base_uri": "https://localhost:8080/",
          "height": 374
        }
      },
      "cell_type": "code",
      "source": [
        "two_layer_network.fit(X_train, y_train, epochs=10, callbacks=[callbacks])"
      ],
      "execution_count": 19,
      "outputs": [
        {
          "output_type": "stream",
          "text": [
            "Epoch 1/10\n",
            "60000/60000 [==============================] - 5s 78us/sample - loss: 0.1928 - acc: 0.9426\n",
            "Epoch 2/10\n",
            "60000/60000 [==============================] - 5s 76us/sample - loss: 0.0803 - acc: 0.9757\n",
            "Epoch 3/10\n",
            "60000/60000 [==============================] - 5s 76us/sample - loss: 0.0553 - acc: 0.9824\n",
            "Epoch 4/10\n",
            "60000/60000 [==============================] - 5s 76us/sample - loss: 0.0406 - acc: 0.9865\n",
            "Epoch 5/10\n",
            "60000/60000 [==============================] - 5s 76us/sample - loss: 0.0333 - acc: 0.9895\n",
            "Epoch 6/10\n",
            "60000/60000 [==============================] - 5s 75us/sample - loss: 0.0292 - acc: 0.9909\n",
            "Epoch 7/10\n",
            "60000/60000 [==============================] - 5s 76us/sample - loss: 0.0220 - acc: 0.9932\n",
            "Epoch 8/10\n",
            "60000/60000 [==============================] - 5s 76us/sample - loss: 0.0218 - acc: 0.9927\n",
            "Epoch 9/10\n",
            "60000/60000 [==============================] - 5s 76us/sample - loss: 0.0171 - acc: 0.9946\n",
            "Epoch 10/10\n",
            "60000/60000 [==============================] - 5s 75us/sample - loss: 0.0161 - acc: 0.9947\n"
          ],
          "name": "stdout"
        },
        {
          "output_type": "execute_result",
          "data": {
            "text/plain": [
              "<tensorflow.python.keras.callbacks.History at 0x7f0288456d30>"
            ]
          },
          "metadata": {
            "tags": []
          },
          "execution_count": 19
        }
      ]
    },
    {
      "metadata": {
        "id": "dWiZqeXdDcy0",
        "colab_type": "code",
        "colab": {}
      },
      "cell_type": "code",
      "source": [
        "X_train = X_train.reshape(60000, 28, 28, 1)\n",
        "X_test = X_test.reshape(10000, 28, 28, 1)"
      ],
      "execution_count": 0,
      "outputs": []
    },
    {
      "metadata": {
        "id": "AfTTSMBFZXhc",
        "colab_type": "text"
      },
      "cell_type": "markdown",
      "source": [
        "# Convolutional Neural Network"
      ]
    },
    {
      "metadata": {
        "id": "E7KLdb04jFTg",
        "colab_type": "code",
        "colab": {}
      },
      "cell_type": "code",
      "source": [
        "cnn_model = tf.keras.Sequential([\n",
        "    tf.keras.layers.Conv2D(64, (3, 3), activation=\"relu\", input_shape=(28, 28, 1)),\n",
        "    tf.keras.layers.MaxPooling2D((2, 2)),\n",
        "    tf.keras.layers.Conv2D(64, (3, 3), activation=\"relu\"),\n",
        "    tf.keras.layers.MaxPooling2D((2, 2)),\n",
        "    tf.keras.layers.Flatten(),\n",
        "    tf.keras.layers.Dense(128, activation=\"relu\"),\n",
        "    tf.keras.layers.Dense(10, activation=\"softmax\")\n",
        "])"
      ],
      "execution_count": 0,
      "outputs": []
    },
    {
      "metadata": {
        "id": "pVC75YlVkYgf",
        "colab_type": "code",
        "colab": {}
      },
      "cell_type": "code",
      "source": [
        "cnn_model.compile(optimizer=\"adam\", loss=\"sparse_categorical_crossentropy\", metrics=[\"accuracy\"])"
      ],
      "execution_count": 0,
      "outputs": []
    },
    {
      "metadata": {
        "id": "4OOtjP4_k3l2",
        "colab_type": "code",
        "outputId": "799c967e-effe-437e-dc24-cf80e975e485",
        "colab": {
          "base_uri": "https://localhost:8080/",
          "height": 510
        }
      },
      "cell_type": "code",
      "source": [
        "\n",
        "cnn_model.fit(X_train, y_train, epochs=15, callbacks=[callbacks])"
      ],
      "execution_count": 23,
      "outputs": [
        {
          "output_type": "stream",
          "text": [
            "Epoch 1/15\n",
            "60000/60000 [==============================] - 11s 177us/sample - loss: 0.1219 - acc: 0.9624\n",
            "Epoch 2/15\n",
            "60000/60000 [==============================] - 8s 131us/sample - loss: 0.0416 - acc: 0.9867\n",
            "Epoch 3/15\n",
            "60000/60000 [==============================] - 8s 131us/sample - loss: 0.0284 - acc: 0.9907\n",
            "Epoch 4/15\n",
            "60000/60000 [==============================] - 9s 145us/sample - loss: 0.0203 - acc: 0.9936\n",
            "Epoch 5/15\n",
            "60000/60000 [==============================] - 8s 129us/sample - loss: 0.0153 - acc: 0.9950\n",
            "Epoch 6/15\n",
            "60000/60000 [==============================] - 8s 129us/sample - loss: 0.0121 - acc: 0.9959\n",
            "Epoch 7/15\n",
            "60000/60000 [==============================] - 8s 129us/sample - loss: 0.0101 - acc: 0.9964\n",
            "Epoch 8/15\n",
            "60000/60000 [==============================] - 8s 129us/sample - loss: 0.0080 - acc: 0.9975\n",
            "Epoch 9/15\n",
            "60000/60000 [==============================] - 8s 129us/sample - loss: 0.0079 - acc: 0.9970\n",
            "Epoch 10/15\n",
            "60000/60000 [==============================] - 9s 152us/sample - loss: 0.0069 - acc: 0.9976\n",
            "Epoch 11/15\n",
            "60000/60000 [==============================] - 8s 131us/sample - loss: 0.0048 - acc: 0.9985\n",
            "Epoch 12/15\n",
            "60000/60000 [==============================] - 8s 129us/sample - loss: 0.0067 - acc: 0.9979\n",
            "Epoch 13/15\n",
            "59808/60000 [============================>.] - ETA: 0s - loss: 0.0031 - acc: 0.9990\n",
            "You've exceded an accuracy of 99.9%\n",
            "60000/60000 [==============================] - 8s 132us/sample - loss: 0.0031 - acc: 0.9990\n"
          ],
          "name": "stdout"
        },
        {
          "output_type": "execute_result",
          "data": {
            "text/plain": [
              "<tensorflow.python.keras.callbacks.History at 0x7f0280341518>"
            ]
          },
          "metadata": {
            "tags": []
          },
          "execution_count": 23
        }
      ]
    },
    {
      "metadata": {
        "id": "mE41_VArlC-O",
        "colab_type": "code",
        "outputId": "61b25868-582c-4984-fd4e-afbe5816274d",
        "colab": {
          "base_uri": "https://localhost:8080/",
          "height": 51
        }
      },
      "cell_type": "code",
      "source": [
        "cnn_model.evaluate(X_test, y_test)"
      ],
      "execution_count": 24,
      "outputs": [
        {
          "output_type": "stream",
          "text": [
            "10000/10000 [==============================] - 1s 73us/sample - loss: 0.0445 - acc: 0.9916\n"
          ],
          "name": "stdout"
        },
        {
          "output_type": "execute_result",
          "data": {
            "text/plain": [
              "[0.044504759450871824, 0.9916]"
            ]
          },
          "metadata": {
            "tags": []
          },
          "execution_count": 24
        }
      ]
    },
    {
      "metadata": {
        "id": "kYxTqInRIr3E",
        "colab_type": "text"
      },
      "cell_type": "markdown",
      "source": [
        "CNN model is achieving an accuracy of 99.2% on the test set! "
      ]
    },
    {
      "metadata": {
        "id": "1B1fjheMd9MZ",
        "colab_type": "text"
      },
      "cell_type": "markdown",
      "source": [
        "Taking a random sample from the test, and running the the model."
      ]
    },
    {
      "metadata": {
        "id": "-Yl5rO2XI0iu",
        "colab_type": "code",
        "colab": {}
      },
      "cell_type": "code",
      "source": [
        "rand_test_samp = random.randint(1, 10000)"
      ],
      "execution_count": 0,
      "outputs": []
    },
    {
      "metadata": {
        "id": "Rocc6boEjUml",
        "colab_type": "code",
        "outputId": "998ceddc-2f58-43f9-8c87-1150e02263e2",
        "colab": {
          "base_uri": "https://localhost:8080/",
          "height": 34
        }
      },
      "cell_type": "code",
      "source": [
        "rand_test_image = X_test[rand_test_samp]\n",
        "rand_test_image = rand_test_image.reshape(28,28)\n",
        "rand_test_label = y_test[rand_test_samp]\n",
        "print(\"The actual label of the sample test image is: {}\".format(rand_test_label))"
      ],
      "execution_count": 26,
      "outputs": [
        {
          "output_type": "stream",
          "text": [
            "The actual label of the sample test image is: 9\n"
          ],
          "name": "stdout"
        }
      ]
    },
    {
      "metadata": {
        "id": "e_5SPDYajy1T",
        "colab_type": "code",
        "outputId": "8136d08b-3022-48e2-ce69-70c90de61e72",
        "colab": {
          "base_uri": "https://localhost:8080/",
          "height": 281
        }
      },
      "cell_type": "code",
      "source": [
        "plt.imshow(rand_test_image)\n",
        "plt.title(\"Actual label of test image: {}\".format(rand_test_label))\n",
        "plt.show()"
      ],
      "execution_count": 27,
      "outputs": [
        {
          "output_type": "display_data",
          "data": {
            "image/png": "[encoded data removed]",
            "text/plain": [
              "<Figure size 432x288 with 1 Axes>"
            ]
          },
          "metadata": {
            "tags": []
          }
        }
      ]
    },
    {
      "metadata": {
        "id": "Ao17xCL2kVnB",
        "colab_type": "code",
        "outputId": "09a971d1-256e-4a67-fa94-4a1883e3ca16",
        "colab": {
          "base_uri": "https://localhost:8080/",
          "height": 51
        }
      },
      "cell_type": "code",
      "source": [
        "rand_test_image = rand_test_image.reshape(1, 28, 28, 1)\n",
        "rand_test_predicted_label = np.array(cnn_model.predict(rand_test_image)).argmax(axis=-1)[0]\n",
        "print(\"Predicted label of image: {}\".format(rand_test_predicted_label))\n",
        "if (rand_test_predicted_label == rand_test_label):\n",
        "  print(\"The model predicted the label correctly!\")\n",
        "else:\n",
        "  print(\"The model predicted the label incorrectly :(\")"
      ],
      "execution_count": 28,
      "outputs": [
        {
          "output_type": "stream",
          "text": [
            "Predicted label of image: 9\n",
            "The model predicted the label correctly!\n"
          ],
          "name": "stdout"
        }
      ]
    },
    {
      "metadata": {
        "id": "wR5PtgycmgzE",
        "colab_type": "text"
      },
      "cell_type": "markdown",
      "source": [
        "## Importing custom hand drawn digits"
      ]
    },
    {
      "metadata": {
        "id": "kZgaMB3LsAKI",
        "colab_type": "code",
        "outputId": "9e0d5805-2882-4357-a5b5-9746421d03cd",
        "colab": {
          "base_uri": "https://localhost:8080/",
          "height": 122
        }
      },
      "cell_type": "code",
      "source": [
        "drive.mount('/content/drive')"
      ],
      "execution_count": 29,
      "outputs": [
        {
          "output_type": "stream",
          "text": [
            "Go to this URL in a browser: https://accounts.google.com/o/oauth2/auth?client_id=947318989803-6bn6qk8qdgf4n4g3pfee6491hc0brc4i.apps.googleusercontent.com&redirect_uri=urn%3Aietf%3Awg%3Aoauth%3A2.0%3Aoob&scope=email%20https%3A%2F%2Fwww.googleapis.com%2Fauth%2Fdocs.test%20https%3A%2F%2Fwww.googleapis.com%2Fauth%2Fdrive%20https%3A%2F%2Fwww.googleapis.com%2Fauth%2Fdrive.photos.readonly%20https%3A%2F%2Fwww.googleapis.com%2Fauth%2Fpeopleapi.readonly&response_type=code\n",
            "\n",
            "Enter your authorization code:\n",
            "··········\n",
            "Mounted at /content/drive\n"
          ],
          "name": "stdout"
        }
      ]
    },
    {
      "metadata": {
        "id": "MJgVodYZmvL6",
        "colab_type": "code",
        "colab": {}
      },
      "cell_type": "code",
      "source": [
        "fig_eight = Image.open(\"/content/drive/My Drive/mnist/figure_eight.png\")\n",
        "fig_seven_paint = Image.open(\"/content/drive/My Drive/mnist/figure_seven_paint_thick.png\")"
      ],
      "execution_count": 0,
      "outputs": []
    },
    {
      "metadata": {
        "id": "-uExhilnDo84",
        "colab_type": "code",
        "outputId": "fb71d1ee-1653-4f66-e2d5-32034c5c060e",
        "colab": {
          "base_uri": "https://localhost:8080/",
          "height": 286
        }
      },
      "cell_type": "code",
      "source": [
        "plt.imshow(fig_eight)"
      ],
      "execution_count": 32,
      "outputs": [
        {
          "output_type": "execute_result",
          "data": {
            "text/plain": [
              "<matplotlib.image.AxesImage at 0x7f024aa647f0>"
            ]
          },
          "metadata": {
            "tags": []
          },
          "execution_count": 32
        },
        {
          "output_type": "display_data",
          "data": {
            "image/png": "[encoded data removed]",
            "text/plain": [
              "<Figure size 432x288 with 1 Axes>"
            ]
          },
          "metadata": {
            "tags": []
          }
        }
      ]
    },
    {
      "metadata": {
        "id": "zCLODvMV0RBP",
        "colab_type": "code",
        "colab": {}
      },
      "cell_type": "code",
      "source": [
        "plt.imshow(fig_seven_paint)"
      ],
      "execution_count": 0,
      "outputs": []
    },
    {
      "metadata": {
        "id": "b0pkAPfdoJ26",
        "colab_type": "code",
        "colab": {}
      },
      "cell_type": "code",
      "source": [
        "plt.imshow(fig_eight_greyscale)"
      ],
      "execution_count": 0,
      "outputs": []
    },
    {
      "metadata": {
        "id": "D5LCevoYEe2n",
        "colab_type": "code",
        "colab": {}
      },
      "cell_type": "code",
      "source": [
        "np_fig_eight_greyscale = np.array(fig_eight_greyscale)"
      ],
      "execution_count": 0,
      "outputs": []
    },
    {
      "metadata": {
        "id": "2zBBG_DSEn-6",
        "colab_type": "code",
        "outputId": "37fbfb2d-8e71-4c76-9749-aa4ba0908747",
        "colab": {
          "base_uri": "https://localhost:8080/",
          "height": 34
        }
      },
      "cell_type": "code",
      "source": [
        "np_fig_eight_greyscale.shape"
      ],
      "execution_count": 0,
      "outputs": [
        {
          "output_type": "execute_result",
          "data": {
            "text/plain": [
              "(1025, 945)"
            ]
          },
          "metadata": {
            "tags": []
          },
          "execution_count": 36
        }
      ]
    },
    {
      "metadata": {
        "id": "kmNCkDhKFXV0",
        "colab_type": "code",
        "outputId": "62da41c4-4eb3-49f5-a55f-83a45f667960",
        "colab": {
          "base_uri": "https://localhost:8080/",
          "height": 286
        }
      },
      "cell_type": "code",
      "source": [
        "fig_eight_greyscale = fig_eight_greyscale.resize((28,28), Image.NEAREST)\n",
        "plt.imshow(fig_eight_greyscale)"
      ],
      "execution_count": 0,
      "outputs": [
        {
          "output_type": "execute_result",
          "data": {
            "text/plain": [
              "<matplotlib.image.AxesImage at 0x7fd340763f98>"
            ]
          },
          "metadata": {
            "tags": []
          },
          "execution_count": 37
        },
        {
          "output_type": "display_data",
          "data": {
            "image/png": "[encoded data removed]",
            "text/plain": [
              "<Figure size 432x288 with 1 Axes>"
            ]
          },
          "metadata": {
            "tags": []
          }
        }
      ]
    },
    {
      "metadata": {
        "id": "YN_xNXsFFooG",
        "colab_type": "code",
        "colab": {}
      },
      "cell_type": "code",
      "source": [
        "np_fig_eight_greyscale = np.array(fig_eight_greyscale)\n",
        "np_fig_seven = np .array(fig_seven_paint)"
      ],
      "execution_count": 0,
      "outputs": []
    },
    {
      "metadata": {
        "id": "DW8NtsN3FvWb",
        "colab_type": "code",
        "colab": {}
      },
      "cell_type": "code",
      "source": [
        "# print(\"The new shape of the figure eight image is {}\".format(np_fig_eight_greyscale.shape))\n",
        "# print(\"The type of the image is {}\".format(type(np_fig_eight_greyscale)))"
      ],
      "execution_count": 0,
      "outputs": []
    },
    {
      "metadata": {
        "id": "ndbnPmd3H2aU",
        "colab_type": "text"
      },
      "cell_type": "markdown",
      "source": [
        "TO DO: Need to process pixels so that they are on the same scale as the training data"
      ]
    },
    {
      "metadata": {
        "id": "V5s-7LdDF9Rm",
        "colab_type": "code",
        "outputId": "be50f854-a7af-4dec-d90e-0299d6d7f0b0",
        "colab": {
          "base_uri": "https://localhost:8080/",
          "height": 286
        }
      },
      "cell_type": "code",
      "source": [
        "plt.imshow(255 - np_fig_eight_greyscale)"
      ],
      "execution_count": 0,
      "outputs": [
        {
          "output_type": "execute_result",
          "data": {
            "text/plain": [
              "<matplotlib.image.AxesImage at 0x7fd3406c9fd0>"
            ]
          },
          "metadata": {
            "tags": []
          },
          "execution_count": 47
        },
        {
          "output_type": "display_data",
          "data": {
            "image/png": "[encoded data removed]",
            "text/plain": [
              "<Figure size 432x288 with 1 Axes>"
            ]
          },
          "metadata": {
            "tags": []
          }
        }
      ]
    },
    {
      "metadata": {
        "id": "e3rEyW6xkKJM",
        "colab_type": "code",
        "colab": {}
      },
      "cell_type": "code",
      "source": [
        "def make_prediction_for_png(cnn, image_png):\n",
        "  # convert to greyscale and resize to 28 by 28\n",
        "  image_scaled = image_png.convert('L').resize((28, 28), Image.NEAREST)\n",
        "  np_image_scaled = np.array(image_scaled)\n",
        "  np_image_scaled_norm = np_image_scaled / 255.0\n",
        "  np_image_scaled_norm = np_image_scaled_norm.reshape(1, 28, 28, 1)\n",
        "  return(cnn.predict(np_image_scaled_norm).argmax(axis=-1)[0])\n",
        "  "
      ],
      "execution_count": 0,
      "outputs": []
    },
    {
      "metadata": {
        "id": "Z24e2Ei5lpc_",
        "colab_type": "code",
        "colab": {
          "base_uri": "https://localhost:8080/",
          "height": 34
        },
        "outputId": "ebad67b8-ce0a-4c04-f627-4bb8c4da7da6"
      },
      "cell_type": "code",
      "source": [
        "make_prediction_for_png(cnn_model, fig_seven_paint)"
      ],
      "execution_count": 45,
      "outputs": [
        {
          "output_type": "execute_result",
          "data": {
            "text/plain": [
              "7"
            ]
          },
          "metadata": {
            "tags": []
          },
          "execution_count": 45
        }
      ]
    },
    {
      "metadata": {
        "id": "TdmBF_XkHcSh",
        "colab_type": "code",
        "colab": {}
      },
      "cell_type": "code",
      "source": [
        ""
      ],
      "execution_count": 0,
      "outputs": []
    }
  ]
}