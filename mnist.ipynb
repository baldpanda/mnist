{
  "nbformat": 4,
  "nbformat_minor": 0,
  "metadata": {
    "colab": {
      "name": "mnist.ipynb",
      "version": "0.3.2",
      "provenance": [],
      "collapsed_sections": [],
      "include_colab_link": true
    },
    "kernelspec": {
      "name": "python3",
      "display_name": "Python 3"
    }
  },
  "cells": [
    {
      "cell_type": "markdown",
      "metadata": {
        "id": "view-in-github",
        "colab_type": "text"
      },
      "source": [
        "<a href=\"https://colab.research.google.com/github/baldpanda/mnist/blob/adding-cnn/mnist.ipynb\" target=\"_parent\"><img src=\"https://colab.research.google.com/assets/colab-badge.svg\" alt=\"Open In Colab\"/></a>"
      ]
    },
    {
      "metadata": {
        "id": "x0c4zyAjAAif",
        "colab_type": "text"
      },
      "cell_type": "markdown",
      "source": [
        "# Learning TensorFlow- MNIST"
      ]
    },
    {
      "metadata": {
        "id": "Mbpd_nu6piHS",
        "colab_type": "code",
        "outputId": "76e3bcee-a47e-42bf-da47-14a1a82f59cb",
        "colab": {
          "base_uri": "https://localhost:8080/",
          "height": 34
        }
      },
      "cell_type": "code",
      "source": [
        "import tensorflow as tf\n",
        "import matplotlib.pyplot as plt\n",
        "import random\n",
        "print(tf.VERSION)"
      ],
      "execution_count": 14,
      "outputs": [
        {
          "output_type": "stream",
          "text": [
            "1.13.1\n"
          ],
          "name": "stdout"
        }
      ]
    },
    {
      "metadata": {
        "id": "G0fbZPLNulco",
        "colab_type": "text"
      },
      "cell_type": "markdown",
      "source": [
        "Keras comes with a number of inbuilt datasets. These include:\n",
        "\n",
        "*   CIFAR10 AND CIFAR100 image classification (50,000 images with 10 and 100 different classes)\n",
        "*   MNIST\n",
        "*   Fashion MNIST\n",
        "*   Boston Housing Regression Dataset\n",
        "\n",
        "\n"
      ]
    },
    {
      "metadata": {
        "id": "Mzu96hilqJry",
        "colab_type": "code",
        "colab": {}
      },
      "cell_type": "code",
      "source": [
        "mnist = tf.keras.datasets.mnist"
      ],
      "execution_count": 0,
      "outputs": []
    },
    {
      "metadata": {
        "id": "4jySI0XHvfyX",
        "colab_type": "code",
        "colab": {}
      },
      "cell_type": "code",
      "source": [
        "(X_train, y_train), (X_test, y_test) = mnist.load_data()"
      ],
      "execution_count": 0,
      "outputs": []
    },
    {
      "metadata": {
        "id": "GeBmOw7wv0Id",
        "colab_type": "code",
        "outputId": "94ba1d26-127c-4ecc-a1c8-db7fd17aca50",
        "colab": {
          "base_uri": "https://localhost:8080/",
          "height": 34
        }
      },
      "cell_type": "code",
      "source": [
        "print('The training data has shape:{}.'.format(X_train.shape))"
      ],
      "execution_count": 17,
      "outputs": [
        {
          "output_type": "stream",
          "text": [
            "The training data has shape:(60000, 28, 28).\n"
          ],
          "name": "stdout"
        }
      ]
    },
    {
      "metadata": {
        "id": "E9zpKKfgv9xV",
        "colab_type": "code",
        "outputId": "ca4248c9-443c-4228-fa90-4ce8593e8c6c",
        "colab": {
          "base_uri": "https://localhost:8080/",
          "height": 34
        }
      },
      "cell_type": "code",
      "source": [
        "print('The testing data has size: {}.'.format(X_test.shape[0]))"
      ],
      "execution_count": 18,
      "outputs": [
        {
          "output_type": "stream",
          "text": [
            "The testing data has size: 10000.\n"
          ],
          "name": "stdout"
        }
      ]
    },
    {
      "metadata": {
        "id": "3q4PwBWp4WeW",
        "colab_type": "code",
        "colab": {
          "base_uri": "https://localhost:8080/",
          "height": 281
        },
        "outputId": "a1eba085-5b32-4962-b331-15837824b835"
      },
      "cell_type": "code",
      "source": [
        "number_to_plot = random.randint(0,X_train.shape[0])\n",
        "plt.title(\"Image label: {}\".format(y_train[number_to_plot]))\n",
        "plt.imshow(X_train[number_to_plot])\n",
        "plt.show()"
      ],
      "execution_count": 29,
      "outputs": [
        {
          "output_type": "display_data",
          "data": {
            "image/png": "[encoded data removed]",
            "text/plain": [
              "<Figure size 432x288 with 1 Axes>"
            ]
          },
          "metadata": {
            "tags": []
          }
        }
      ]
    },
    {
      "metadata": {
        "id": "YKllN4s2wnlP",
        "colab_type": "text"
      },
      "cell_type": "markdown",
      "source": [
        "Initially building a simple fully connected neural network to train on the MNIST dataset."
      ]
    },
    {
      "metadata": {
        "id": "ZkAzH_Hux_gc",
        "colab_type": "code",
        "colab": {}
      },
      "cell_type": "code",
      "source": [
        "X_train = X_train / 255.0\n",
        "X_test = X_test / 255.0"
      ],
      "execution_count": 0,
      "outputs": []
    },
    {
      "metadata": {
        "id": "pmq3msBQwxng",
        "colab_type": "code",
        "colab": {}
      },
      "cell_type": "code",
      "source": [
        "model = tf.keras.Sequential([\n",
        "    tf.keras.layers.Flatten(),\n",
        "    tf.keras.layers.Dense(128, activation = tf.nn.relu),\n",
        "    tf.keras.layers.Dense(10, activation = tf.nn.softmax)\n",
        "])"
      ],
      "execution_count": 0,
      "outputs": []
    },
    {
      "metadata": {
        "id": "69Buq1OyxRsL",
        "colab_type": "code",
        "colab": {}
      },
      "cell_type": "code",
      "source": [
        "model.compile(optimizer=tf.train.AdamOptimizer(),\n",
        "             loss='sparse_categorical_crossentropy',\n",
        "             metrics=['accuracy'])"
      ],
      "execution_count": 0,
      "outputs": []
    },
    {
      "metadata": {
        "id": "NNVzXsmvxT1Y",
        "colab_type": "code",
        "outputId": "2dba56fe-42dd-43dd-9ad2-325cdf4077ac",
        "colab": {
          "base_uri": "https://localhost:8080/",
          "height": 204
        }
      },
      "cell_type": "code",
      "source": [
        "model.fit(X_train, y_train, epochs=5)"
      ],
      "execution_count": 0,
      "outputs": [
        {
          "output_type": "stream",
          "text": [
            "Epoch 1/5\n",
            "60000/60000 [==============================] - 5s 85us/sample - loss: 0.2570 - acc: 0.9272\n",
            "Epoch 2/5\n",
            "60000/60000 [==============================] - 5s 82us/sample - loss: 0.1127 - acc: 0.9662\n",
            "Epoch 3/5\n",
            "60000/60000 [==============================] - 5s 87us/sample - loss: 0.0773 - acc: 0.9766\n",
            "Epoch 4/5\n",
            "60000/60000 [==============================] - 5s 85us/sample - loss: 0.0581 - acc: 0.9819\n",
            "Epoch 5/5\n",
            "60000/60000 [==============================] - 5s 85us/sample - loss: 0.0430 - acc: 0.9870\n"
          ],
          "name": "stdout"
        },
        {
          "output_type": "execute_result",
          "data": {
            "text/plain": [
              "<tensorflow.python.keras.callbacks.History at 0x7fb668ce0cf8>"
            ]
          },
          "metadata": {
            "tags": []
          },
          "execution_count": 29
        }
      ]
    },
    {
      "metadata": {
        "id": "WjQrfs1vCnhd",
        "colab_type": "code",
        "outputId": "6d4fe9e7-bd2c-434d-e25f-18953a622769",
        "colab": {
          "base_uri": "https://localhost:8080/",
          "height": 238
        }
      },
      "cell_type": "code",
      "source": [
        "model.summary()"
      ],
      "execution_count": 0,
      "outputs": [
        {
          "output_type": "stream",
          "text": [
            "_________________________________________________________________\n",
            "Layer (type)                 Output Shape              Param #   \n",
            "=================================================================\n",
            "flatten_3 (Flatten)          multiple                  0         \n",
            "_________________________________________________________________\n",
            "dense_7 (Dense)              multiple                  100480    \n",
            "_________________________________________________________________\n",
            "dense_8 (Dense)              multiple                  1290      \n",
            "=================================================================\n",
            "Total params: 101,770\n",
            "Trainable params: 101,770\n",
            "Non-trainable params: 0\n",
            "_________________________________________________________________\n"
          ],
          "name": "stdout"
        }
      ]
    },
    {
      "metadata": {
        "id": "cmnFC9lvy3s2",
        "colab_type": "code",
        "outputId": "d1dee44f-fdc2-4e45-9816-c8f6ba33dc7c",
        "colab": {
          "base_uri": "https://localhost:8080/",
          "height": 51
        }
      },
      "cell_type": "code",
      "source": [
        "model.evaluate(X_test, y_test)"
      ],
      "execution_count": 0,
      "outputs": [
        {
          "output_type": "stream",
          "text": [
            "10000/10000 [==============================] - 1s 50us/sample - loss: 0.0812 - acc: 0.9769\n"
          ],
          "name": "stdout"
        },
        {
          "output_type": "execute_result",
          "data": {
            "text/plain": [
              "[0.08116585892452859, 0.9769]"
            ]
          },
          "metadata": {
            "tags": []
          },
          "execution_count": 31
        }
      ]
    },
    {
      "metadata": {
        "id": "HXHE-6AqzH9H",
        "colab_type": "text"
      },
      "cell_type": "markdown",
      "source": [
        "Building a basic 2 layer fully connected NN that achieves 97.8% accuracy on the test data. "
      ]
    },
    {
      "metadata": {
        "id": "7U314rfgAQW-",
        "colab_type": "text"
      },
      "cell_type": "markdown",
      "source": [
        "Adding callback function, which stops training once the model achieves an accuracy of xx.x% on the training data and adding an extra layer to the NN."
      ]
    },
    {
      "metadata": {
        "id": "OyVkZHZa_90n",
        "colab_type": "code",
        "colab": {}
      },
      "cell_type": "code",
      "source": [
        "class myCallback(tf.keras.callbacks.Callback):  \n",
        "  def on_epoch_end(self, epoch, logs={}):\n",
        "    if logs.get('acc') > 0.999:\n",
        "      print(\"\\nYou've exceded an accuracy of 99.9%\")\n",
        "      self.model.stop_training = True  "
      ],
      "execution_count": 0,
      "outputs": []
    },
    {
      "metadata": {
        "id": "aDgez5U4Bhr6",
        "colab_type": "code",
        "colab": {}
      },
      "cell_type": "code",
      "source": [
        "callbacks = myCallback()"
      ],
      "execution_count": 0,
      "outputs": []
    },
    {
      "metadata": {
        "id": "YpLEKg4ABnqi",
        "colab_type": "code",
        "colab": {}
      },
      "cell_type": "code",
      "source": [
        "two_layer_network = tf.keras.Sequential([\n",
        "    tf.keras.layers.Flatten(),\n",
        "    tf.keras.layers.Dense(512, activation=\"relu\"),\n",
        "    tf.keras.layers.Dense(128, activation=\"relu\"),\n",
        "    tf.keras.layers.Dense(10, activation=\"softmax\")\n",
        "])"
      ],
      "execution_count": 0,
      "outputs": []
    },
    {
      "metadata": {
        "id": "X0K6n_TxCjQp",
        "colab_type": "code",
        "colab": {}
      },
      "cell_type": "code",
      "source": [
        "two_layer_network.compile(optimizer=tf.train.AdamOptimizer(),\n",
        "                         loss='sparse_categorical_crossentropy',\n",
        "                         metrics=['accuracy'])"
      ],
      "execution_count": 0,
      "outputs": []
    },
    {
      "metadata": {
        "id": "ZqEsxwbDDUvL",
        "colab_type": "code",
        "outputId": "cf3b3ca6-3ea2-4f99-9476-a66087416cdd",
        "colab": {
          "base_uri": "https://localhost:8080/",
          "height": 374
        }
      },
      "cell_type": "code",
      "source": [
        "two_layer_network.fit(X_train, y_train, epochs=10, callbacks=[callbacks])"
      ],
      "execution_count": 0,
      "outputs": [
        {
          "output_type": "stream",
          "text": [
            "Epoch 1/10\n",
            "60000/60000 [==============================] - 11s 183us/sample - loss: 0.1894 - acc: 0.9432\n",
            "Epoch 2/10\n",
            "60000/60000 [==============================] - 11s 177us/sample - loss: 0.0799 - acc: 0.9750\n",
            "Epoch 3/10\n",
            "60000/60000 [==============================] - 10s 172us/sample - loss: 0.0552 - acc: 0.9824\n",
            "Epoch 4/10\n",
            "60000/60000 [==============================] - 11s 180us/sample - loss: 0.0402 - acc: 0.9872\n",
            "Epoch 5/10\n",
            "60000/60000 [==============================] - 11s 184us/sample - loss: 0.0322 - acc: 0.9895\n",
            "Epoch 6/10\n",
            "60000/60000 [==============================] - 11s 187us/sample - loss: 0.0254 - acc: 0.9917\n",
            "Epoch 7/10\n",
            "60000/60000 [==============================] - 11s 189us/sample - loss: 0.0228 - acc: 0.9924\n",
            "Epoch 8/10\n",
            "60000/60000 [==============================] - 11s 185us/sample - loss: 0.0188 - acc: 0.9940\n",
            "Epoch 9/10\n",
            "60000/60000 [==============================] - 11s 188us/sample - loss: 0.0176 - acc: 0.9944\n",
            "Epoch 10/10\n",
            "60000/60000 [==============================] - 10s 174us/sample - loss: 0.0164 - acc: 0.9949\n"
          ],
          "name": "stdout"
        },
        {
          "output_type": "execute_result",
          "data": {
            "text/plain": [
              "<tensorflow.python.keras.callbacks.History at 0x7fb6682d6e48>"
            ]
          },
          "metadata": {
            "tags": []
          },
          "execution_count": 44
        }
      ]
    },
    {
      "metadata": {
        "id": "dWiZqeXdDcy0",
        "colab_type": "code",
        "colab": {}
      },
      "cell_type": "code",
      "source": [
        "X_train = X_train.reshape(60000, 28, 28, 1)\n",
        "X_test = X_test.reshape(10000, 28, 28, 1)"
      ],
      "execution_count": 0,
      "outputs": []
    },
    {
      "metadata": {
        "id": "E7KLdb04jFTg",
        "colab_type": "code",
        "colab": {}
      },
      "cell_type": "code",
      "source": [
        "cnn_model = tf.keras.Sequential([\n",
        "    tf.keras.layers.Conv2D(64, (3, 3), activation=\"relu\", input_shape=(28, 28, 1)),\n",
        "    tf.keras.layers.MaxPooling2D((2, 2)),\n",
        "    tf.keras.layers.Conv2D(32, (3, 3), activation=\"relu\", input_shape=(28, 28, 1)),\n",
        "    tf.keras.layers.MaxPooling2D((2, 2)),\n",
        "    tf.keras.layers.Flatten(),\n",
        "    tf.keras.layers.Dense(1024, activation=\"relu\"),\n",
        "    tf.keras.layers.Dense(10, activation=\"softmax\")\n",
        "])"
      ],
      "execution_count": 0,
      "outputs": []
    },
    {
      "metadata": {
        "id": "pVC75YlVkYgf",
        "colab_type": "code",
        "colab": {}
      },
      "cell_type": "code",
      "source": [
        "cnn_model.compile(optimizer=\"adam\", loss=\"sparse_categorical_crossentropy\", metrics=[\"accuracy\"])"
      ],
      "execution_count": 0,
      "outputs": []
    },
    {
      "metadata": {
        "id": "4OOtjP4_k3l2",
        "colab_type": "code",
        "outputId": "af5fe762-e998-468a-96cc-affc083ae49a",
        "colab": {
          "base_uri": "https://localhost:8080/",
          "height": 544
        }
      },
      "cell_type": "code",
      "source": [
        "cnn_model.fit(X_train, y_train, epochs=15, callbacks=[callbacks])"
      ],
      "execution_count": 0,
      "outputs": [
        {
          "output_type": "stream",
          "text": [
            "Epoch 1/15\n",
            "60000/60000 [==============================] - 108s 2ms/sample - loss: 0.1100 - acc: 0.9652\n",
            "Epoch 2/15\n",
            "60000/60000 [==============================] - 107s 2ms/sample - loss: 0.0389 - acc: 0.9879\n",
            "Epoch 3/15\n",
            "60000/60000 [==============================] - 106s 2ms/sample - loss: 0.0252 - acc: 0.9922\n",
            "Epoch 4/15\n",
            "60000/60000 [==============================] - 106s 2ms/sample - loss: 0.0191 - acc: 0.9939\n",
            "Epoch 5/15\n",
            "60000/60000 [==============================] - 106s 2ms/sample - loss: 0.0140 - acc: 0.9956\n",
            "Epoch 6/15\n",
            "60000/60000 [==============================] - 106s 2ms/sample - loss: 0.0122 - acc: 0.9956\n",
            "Epoch 7/15\n",
            "60000/60000 [==============================] - 107s 2ms/sample - loss: 0.0089 - acc: 0.9970\n",
            "Epoch 8/15\n",
            "60000/60000 [==============================] - 107s 2ms/sample - loss: 0.0081 - acc: 0.9973\n",
            "Epoch 9/15\n",
            "60000/60000 [==============================] - 107s 2ms/sample - loss: 0.0077 - acc: 0.9977\n",
            "Epoch 10/15\n",
            "60000/60000 [==============================] - 108s 2ms/sample - loss: 0.0064 - acc: 0.9981\n",
            "Epoch 11/15\n",
            "60000/60000 [==============================] - 109s 2ms/sample - loss: 0.0066 - acc: 0.9981\n",
            "Epoch 12/15\n",
            "60000/60000 [==============================] - 108s 2ms/sample - loss: 0.0070 - acc: 0.9979\n",
            "Epoch 13/15\n",
            "60000/60000 [==============================] - 109s 2ms/sample - loss: 0.0059 - acc: 0.9982\n",
            "Epoch 14/15\n",
            "60000/60000 [==============================] - 109s 2ms/sample - loss: 0.0060 - acc: 0.9982\n",
            "Epoch 15/15\n",
            "60000/60000 [==============================] - 108s 2ms/sample - loss: 0.0054 - acc: 0.9985\n"
          ],
          "name": "stdout"
        },
        {
          "output_type": "execute_result",
          "data": {
            "text/plain": [
              "<tensorflow.python.keras.callbacks.History at 0x7fb6679c0710>"
            ]
          },
          "metadata": {
            "tags": []
          },
          "execution_count": 48
        }
      ]
    },
    {
      "metadata": {
        "id": "mE41_VArlC-O",
        "colab_type": "code",
        "colab": {}
      },
      "cell_type": "code",
      "source": [
        ""
      ],
      "execution_count": 0,
      "outputs": []
    }
  ]
}