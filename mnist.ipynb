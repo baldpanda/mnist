{
  "nbformat": 4,
  "nbformat_minor": 0,
  "metadata": {
    "colab": {
      "name": "mnist.ipynb",
      "version": "0.3.2",
      "provenance": [],
      "collapsed_sections": [],
      "include_colab_link": true
    },
    "kernelspec": {
      "name": "python3",
      "display_name": "Python 3"
    },
    "accelerator": "GPU"
  },
  "cells": [
    {
      "cell_type": "markdown",
      "metadata": {
        "id": "view-in-github",
        "colab_type": "text"
      },
      "source": [
        "<a href=\"https://colab.research.google.com/github/baldpanda/mnist/blob/experimenting-with-notebook/mnist.ipynb\" target=\"_parent\"><img src=\"https://colab.research.google.com/assets/colab-badge.svg\" alt=\"Open In Colab\"/></a>"
      ]
    },
    {
      "metadata": {
        "id": "x0c4zyAjAAif",
        "colab_type": "text"
      },
      "cell_type": "markdown",
      "source": [
        "# Learning TensorFlow and Keras- MNIST"
      ]
    },
    {
      "metadata": {
        "id": "BnlRaM4-cn1t",
        "colab_type": "text"
      },
      "cell_type": "markdown",
      "source": [
        "Taking the learnings from the Introduction to TensorFlow for AI, ML, and Deep Learning on Coursera and experimenting with them on the MNIST dataset. "
      ]
    },
    {
      "metadata": {
        "id": "U0-vHu17dPrU",
        "colab_type": "text"
      },
      "cell_type": "markdown",
      "source": [
        "**Note** - Collab gives the option of running notebook on GPU enabled machine. This seems to speed up training significantly."
      ]
    },
    {
      "metadata": {
        "id": "Mbpd_nu6piHS",
        "colab_type": "code",
        "outputId": "b5d265d0-e422-4dcb-fe91-208c1557611a",
        "colab": {
          "base_uri": "https://localhost:8080/",
          "height": 34
        }
      },
      "cell_type": "code",
      "source": [
        "import tensorflow as tf\n",
        "import matplotlib.pyplot as plt\n",
        "import numpy as np\n",
        "import random\n",
        "from google.colab import drive\n",
        "from PIL import Image\n",
        "print(tf.VERSION)"
      ],
      "execution_count": 2,
      "outputs": [
        {
          "output_type": "stream",
          "text": [
            "1.13.1\n"
          ],
          "name": "stdout"
        }
      ]
    },
    {
      "metadata": {
        "id": "ZVszehuXrrEW",
        "colab_type": "code",
        "colab": {}
      },
      "cell_type": "code",
      "source": [
        "random.seed(42)"
      ],
      "execution_count": 0,
      "outputs": []
    },
    {
      "metadata": {
        "id": "G0fbZPLNulco",
        "colab_type": "text"
      },
      "cell_type": "markdown",
      "source": [
        "Keras comes with a number of inbuilt datasets. These include:\n",
        "\n",
        "*   CIFAR10 AND CIFAR100 image classification (50,000 images with 10 and 100 different classes respectively)\n",
        "*   MNIST\n",
        "*   Fashion MNIST\n",
        "*   Boston Housing Regression Dataset\n",
        "\n",
        "\n"
      ]
    },
    {
      "metadata": {
        "id": "Mzu96hilqJry",
        "colab_type": "code",
        "colab": {}
      },
      "cell_type": "code",
      "source": [
        "mnist = tf.keras.datasets.mnist"
      ],
      "execution_count": 0,
      "outputs": []
    },
    {
      "metadata": {
        "id": "4jySI0XHvfyX",
        "colab_type": "code",
        "colab": {
          "base_uri": "https://localhost:8080/",
          "height": 51
        },
        "outputId": "baddb183-d905-4b70-8c45-82244d4bc21b"
      },
      "cell_type": "code",
      "source": [
        "(X_train, y_train), (X_test, y_test) = mnist.load_data()"
      ],
      "execution_count": 5,
      "outputs": [
        {
          "output_type": "stream",
          "text": [
            "Downloading data from https://storage.googleapis.com/tensorflow/tf-keras-datasets/mnist.npz\n",
            "11493376/11490434 [==============================] - 0s 0us/step\n"
          ],
          "name": "stdout"
        }
      ]
    },
    {
      "metadata": {
        "id": "GeBmOw7wv0Id",
        "colab_type": "code",
        "outputId": "2c4ec685-9314-47fe-8bcb-4a206028fcba",
        "colab": {
          "base_uri": "https://localhost:8080/",
          "height": 34
        }
      },
      "cell_type": "code",
      "source": [
        "print('The training data has shape: {}.'.format(X_train.shape))"
      ],
      "execution_count": 6,
      "outputs": [
        {
          "output_type": "stream",
          "text": [
            "The training data has shape: (60000, 28, 28).\n"
          ],
          "name": "stdout"
        }
      ]
    },
    {
      "metadata": {
        "id": "E9zpKKfgv9xV",
        "colab_type": "code",
        "outputId": "6fbde98f-1b60-41da-bb74-78ead1bf27f9",
        "colab": {
          "base_uri": "https://localhost:8080/",
          "height": 34
        }
      },
      "cell_type": "code",
      "source": [
        "print('The testing data has size: {}.'.format(X_test.shape[0]))"
      ],
      "execution_count": 7,
      "outputs": [
        {
          "output_type": "stream",
          "text": [
            "The testing data has size: 10000.\n"
          ],
          "name": "stdout"
        }
      ]
    },
    {
      "metadata": {
        "id": "_HBwTl3UXByI",
        "colab_type": "text"
      },
      "cell_type": "markdown",
      "source": [
        "Plotting an image from the training data sampled at random."
      ]
    },
    {
      "metadata": {
        "id": "3q4PwBWp4WeW",
        "colab_type": "code",
        "outputId": "8fbbed6c-e1fd-4d97-c86c-4ae8ed7e6fab",
        "colab": {
          "base_uri": "https://localhost:8080/",
          "height": 281
        }
      },
      "cell_type": "code",
      "source": [
        "number_to_plot = random.randint(0,X_train.shape[0])\n",
        "plt.title(\"Image label: {}\".format(y_train[number_to_plot]))\n",
        "plt.imshow(X_train[number_to_plot])\n",
        "plt.show()"
      ],
      "execution_count": 8,
      "outputs": [
        {
          "output_type": "display_data",
          "data": {
            "image/png": "[encoded data removed]",
            "text/plain": [
              "<Figure size 432x288 with 1 Axes>"
            ]
          },
          "metadata": {
            "tags": []
          }
        }
      ]
    },
    {
      "metadata": {
        "id": "jSYhuzWvlD_m",
        "colab_type": "code",
        "outputId": "c8524866-b323-43f7-f7f2-fd2935ac9342",
        "colab": {
          "base_uri": "https://localhost:8080/",
          "height": 34
        }
      },
      "cell_type": "code",
      "source": [
        "X_train[number_to_plot].shape"
      ],
      "execution_count": 9,
      "outputs": [
        {
          "output_type": "execute_result",
          "data": {
            "text/plain": [
              "(28, 28)"
            ]
          },
          "metadata": {
            "tags": []
          },
          "execution_count": 9
        }
      ]
    },
    {
      "metadata": {
        "id": "YKllN4s2wnlP",
        "colab_type": "text"
      },
      "cell_type": "markdown",
      "source": [
        "Normalising the data "
      ]
    },
    {
      "metadata": {
        "id": "ZkAzH_Hux_gc",
        "colab_type": "code",
        "colab": {}
      },
      "cell_type": "code",
      "source": [
        "X_train = X_train / 255.0\n",
        "X_test = X_test / 255.0"
      ],
      "execution_count": 0,
      "outputs": []
    },
    {
      "metadata": {
        "id": "mGeKryvBY_p_",
        "colab_type": "text"
      },
      "cell_type": "markdown",
      "source": [
        "# Building a fully connected neural network and fitting on the training data"
      ]
    },
    {
      "metadata": {
        "id": "pmq3msBQwxng",
        "colab_type": "code",
        "colab": {}
      },
      "cell_type": "code",
      "source": [
        "model = tf.keras.Sequential([\n",
        "    tf.keras.layers.Flatten(),\n",
        "    tf.keras.layers.Dense(128, activation = tf.nn.relu),\n",
        "    tf.keras.layers.Dense(10, activation = tf.nn.softmax)\n",
        "])"
      ],
      "execution_count": 0,
      "outputs": []
    },
    {
      "metadata": {
        "id": "69Buq1OyxRsL",
        "colab_type": "code",
        "outputId": "82e90fc7-0d8b-4087-b8b9-46a6eae06d71",
        "colab": {
          "base_uri": "https://localhost:8080/",
          "height": 88
        }
      },
      "cell_type": "code",
      "source": [
        "model.compile(optimizer=tf.train.AdamOptimizer(),\n",
        "             loss='sparse_categorical_crossentropy',\n",
        "             metrics=['accuracy'])"
      ],
      "execution_count": 12,
      "outputs": [
        {
          "output_type": "stream",
          "text": [
            "WARNING:tensorflow:From /usr/local/lib/python3.6/dist-packages/tensorflow/python/ops/resource_variable_ops.py:435: colocate_with (from tensorflow.python.framework.ops) is deprecated and will be removed in a future version.\n",
            "Instructions for updating:\n",
            "Colocations handled automatically by placer.\n"
          ],
          "name": "stdout"
        }
      ]
    },
    {
      "metadata": {
        "id": "NNVzXsmvxT1Y",
        "colab_type": "code",
        "outputId": "b73df151-5dc2-470a-dee6-11686e72f250",
        "colab": {
          "base_uri": "https://localhost:8080/",
          "height": 204
        }
      },
      "cell_type": "code",
      "source": [
        "model.fit(X_train, y_train, epochs=5)"
      ],
      "execution_count": 13,
      "outputs": [
        {
          "output_type": "stream",
          "text": [
            "Epoch 1/5\n",
            "60000/60000 [==============================] - 5s 78us/sample - loss: 0.2596 - acc: 0.9247\n",
            "Epoch 2/5\n",
            "60000/60000 [==============================] - 4s 65us/sample - loss: 0.1137 - acc: 0.9660\n",
            "Epoch 3/5\n",
            "60000/60000 [==============================] - 4s 65us/sample - loss: 0.0792 - acc: 0.9756\n",
            "Epoch 4/5\n",
            "60000/60000 [==============================] - 4s 64us/sample - loss: 0.0586 - acc: 0.9822\n",
            "Epoch 5/5\n",
            "60000/60000 [==============================] - 4s 65us/sample - loss: 0.0454 - acc: 0.9859\n"
          ],
          "name": "stdout"
        },
        {
          "output_type": "execute_result",
          "data": {
            "text/plain": [
              "<tensorflow.python.keras.callbacks.History at 0x7fd357ca2748>"
            ]
          },
          "metadata": {
            "tags": []
          },
          "execution_count": 13
        }
      ]
    },
    {
      "metadata": {
        "id": "WjQrfs1vCnhd",
        "colab_type": "code",
        "outputId": "7031cc38-ead6-416a-8ad6-a8da17f5eef0",
        "colab": {
          "base_uri": "https://localhost:8080/",
          "height": 238
        }
      },
      "cell_type": "code",
      "source": [
        "model.summary()"
      ],
      "execution_count": 14,
      "outputs": [
        {
          "output_type": "stream",
          "text": [
            "_________________________________________________________________\n",
            "Layer (type)                 Output Shape              Param #   \n",
            "=================================================================\n",
            "flatten (Flatten)            multiple                  0         \n",
            "_________________________________________________________________\n",
            "dense (Dense)                multiple                  100480    \n",
            "_________________________________________________________________\n",
            "dense_1 (Dense)              multiple                  1290      \n",
            "=================================================================\n",
            "Total params: 101,770\n",
            "Trainable params: 101,770\n",
            "Non-trainable params: 0\n",
            "_________________________________________________________________\n"
          ],
          "name": "stdout"
        }
      ]
    },
    {
      "metadata": {
        "id": "cmnFC9lvy3s2",
        "colab_type": "code",
        "outputId": "d34ea7ec-65b8-4b30-8349-8046622883ef",
        "colab": {
          "base_uri": "https://localhost:8080/",
          "height": 51
        }
      },
      "cell_type": "code",
      "source": [
        "model.evaluate(X_test, y_test)"
      ],
      "execution_count": 15,
      "outputs": [
        {
          "output_type": "stream",
          "text": [
            "10000/10000 [==============================] - 0s 50us/sample - loss: 0.0900 - acc: 0.9735\n"
          ],
          "name": "stdout"
        },
        {
          "output_type": "execute_result",
          "data": {
            "text/plain": [
              "[0.09001907541139517, 0.9735]"
            ]
          },
          "metadata": {
            "tags": []
          },
          "execution_count": 15
        }
      ]
    },
    {
      "metadata": {
        "id": "HXHE-6AqzH9H",
        "colab_type": "text"
      },
      "cell_type": "markdown",
      "source": [
        "Building a basic 2 layer fully connected NN that achieves 97.8% accuracy on the test data. "
      ]
    },
    {
      "metadata": {
        "id": "7U314rfgAQW-",
        "colab_type": "text"
      },
      "cell_type": "markdown",
      "source": [
        "Adding callback function, which stops training once the model achieves an accuracy of xx.x% on the training data and adding an extra layer to the NN."
      ]
    },
    {
      "metadata": {
        "id": "OyVkZHZa_90n",
        "colab_type": "code",
        "colab": {}
      },
      "cell_type": "code",
      "source": [
        "class myCallback(tf.keras.callbacks.Callback):  \n",
        "  def on_epoch_end(self, epoch, logs={}):\n",
        "    if logs.get('acc') > 0.999:\n",
        "      print(\"\\nYou've exceded an accuracy of 99.9%\")\n",
        "      self.model.stop_training = True  "
      ],
      "execution_count": 0,
      "outputs": []
    },
    {
      "metadata": {
        "id": "aDgez5U4Bhr6",
        "colab_type": "code",
        "colab": {}
      },
      "cell_type": "code",
      "source": [
        "callbacks = myCallback()"
      ],
      "execution_count": 0,
      "outputs": []
    },
    {
      "metadata": {
        "id": "YpLEKg4ABnqi",
        "colab_type": "code",
        "colab": {}
      },
      "cell_type": "code",
      "source": [
        "two_layer_network = tf.keras.Sequential([\n",
        "    tf.keras.layers.Flatten(),\n",
        "    tf.keras.layers.Dense(512, activation=\"relu\"),\n",
        "    tf.keras.layers.Dense(128, activation=\"relu\"),\n",
        "    tf.keras.layers.Dense(10, activation=\"softmax\")\n",
        "])"
      ],
      "execution_count": 0,
      "outputs": []
    },
    {
      "metadata": {
        "id": "X0K6n_TxCjQp",
        "colab_type": "code",
        "colab": {}
      },
      "cell_type": "code",
      "source": [
        "two_layer_network.compile(optimizer=tf.train.AdamOptimizer(),\n",
        "                         loss='sparse_categorical_crossentropy',\n",
        "                         metrics=['accuracy'])"
      ],
      "execution_count": 0,
      "outputs": []
    },
    {
      "metadata": {
        "id": "ZqEsxwbDDUvL",
        "colab_type": "code",
        "outputId": "3881ca9c-9ea6-4128-ec7a-1a7c8de7fc9e",
        "colab": {
          "base_uri": "https://localhost:8080/",
          "height": 374
        }
      },
      "cell_type": "code",
      "source": [
        "two_layer_network.fit(X_train, y_train, epochs=10, callbacks=[callbacks])"
      ],
      "execution_count": 20,
      "outputs": [
        {
          "output_type": "stream",
          "text": [
            "Epoch 1/10\n",
            "60000/60000 [==============================] - 4s 74us/sample - loss: 0.1926 - acc: 0.9416\n",
            "Epoch 2/10\n",
            "60000/60000 [==============================] - 4s 74us/sample - loss: 0.0799 - acc: 0.9753\n",
            "Epoch 3/10\n",
            "60000/60000 [==============================] - 4s 73us/sample - loss: 0.0551 - acc: 0.9824\n",
            "Epoch 4/10\n",
            "60000/60000 [==============================] - 4s 73us/sample - loss: 0.0416 - acc: 0.9869\n",
            "Epoch 5/10\n",
            "60000/60000 [==============================] - 4s 73us/sample - loss: 0.0328 - acc: 0.9890\n",
            "Epoch 6/10\n",
            "60000/60000 [==============================] - 4s 74us/sample - loss: 0.0266 - acc: 0.9912\n",
            "Epoch 7/10\n",
            "60000/60000 [==============================] - 5s 83us/sample - loss: 0.0219 - acc: 0.9929\n",
            "Epoch 8/10\n",
            "60000/60000 [==============================] - 5s 81us/sample - loss: 0.0202 - acc: 0.9931\n",
            "Epoch 9/10\n",
            "60000/60000 [==============================] - 4s 73us/sample - loss: 0.0174 - acc: 0.9942\n",
            "Epoch 10/10\n",
            "60000/60000 [==============================] - 4s 72us/sample - loss: 0.0158 - acc: 0.9947\n"
          ],
          "name": "stdout"
        },
        {
          "output_type": "execute_result",
          "data": {
            "text/plain": [
              "<tensorflow.python.keras.callbacks.History at 0x7fd34a123940>"
            ]
          },
          "metadata": {
            "tags": []
          },
          "execution_count": 20
        }
      ]
    },
    {
      "metadata": {
        "id": "dWiZqeXdDcy0",
        "colab_type": "code",
        "colab": {}
      },
      "cell_type": "code",
      "source": [
        "X_train = X_train.reshape(60000, 28, 28, 1)\n",
        "X_test = X_test.reshape(10000, 28, 28, 1)"
      ],
      "execution_count": 0,
      "outputs": []
    },
    {
      "metadata": {
        "id": "AfTTSMBFZXhc",
        "colab_type": "text"
      },
      "cell_type": "markdown",
      "source": [
        "# Convolutional Neural Network"
      ]
    },
    {
      "metadata": {
        "id": "E7KLdb04jFTg",
        "colab_type": "code",
        "colab": {}
      },
      "cell_type": "code",
      "source": [
        "cnn_model = tf.keras.Sequential([\n",
        "    tf.keras.layers.Conv2D(64, (3, 3), activation=\"relu\", input_shape=(28, 28, 1)),\n",
        "    tf.keras.layers.MaxPooling2D((2, 2)),\n",
        "    tf.keras.layers.Conv2D(64, (3, 3), activation=\"relu\"),\n",
        "    tf.keras.layers.MaxPooling2D((2, 2)),\n",
        "    tf.keras.layers.Flatten(),\n",
        "    tf.keras.layers.Dense(128, activation=\"relu\"),\n",
        "    tf.keras.layers.Dense(10, activation=\"softmax\")\n",
        "])"
      ],
      "execution_count": 0,
      "outputs": []
    },
    {
      "metadata": {
        "id": "pVC75YlVkYgf",
        "colab_type": "code",
        "colab": {}
      },
      "cell_type": "code",
      "source": [
        "cnn_model.compile(optimizer=\"adam\", loss=\"sparse_categorical_crossentropy\", metrics=[\"accuracy\"])"
      ],
      "execution_count": 0,
      "outputs": []
    },
    {
      "metadata": {
        "id": "4OOtjP4_k3l2",
        "colab_type": "code",
        "outputId": "d9b3809d-122f-4276-acc6-571137b021ca",
        "colab": {
          "base_uri": "https://localhost:8080/",
          "height": 544
        }
      },
      "cell_type": "code",
      "source": [
        "\n",
        "cnn_model.fit(X_train, y_train, epochs=15, callbacks=[callbacks])"
      ],
      "execution_count": 24,
      "outputs": [
        {
          "output_type": "stream",
          "text": [
            "Epoch 1/15\n",
            "60000/60000 [==============================] - 10s 162us/sample - loss: 0.1257 - acc: 0.9610\n",
            "Epoch 2/15\n",
            "60000/60000 [==============================] - 7s 121us/sample - loss: 0.0422 - acc: 0.9872\n",
            "Epoch 3/15\n",
            "60000/60000 [==============================] - 7s 120us/sample - loss: 0.0291 - acc: 0.9908\n",
            "Epoch 4/15\n",
            "60000/60000 [==============================] - 7s 120us/sample - loss: 0.0201 - acc: 0.9936\n",
            "Epoch 5/15\n",
            "60000/60000 [==============================] - 7s 119us/sample - loss: 0.0153 - acc: 0.9950\n",
            "Epoch 6/15\n",
            "60000/60000 [==============================] - 7s 119us/sample - loss: 0.0121 - acc: 0.9958\n",
            "Epoch 7/15\n",
            "60000/60000 [==============================] - 7s 119us/sample - loss: 0.0092 - acc: 0.9969\n",
            "Epoch 8/15\n",
            "60000/60000 [==============================] - 7s 119us/sample - loss: 0.0087 - acc: 0.9969\n",
            "Epoch 9/15\n",
            "60000/60000 [==============================] - 8s 137us/sample - loss: 0.0070 - acc: 0.9978\n",
            "Epoch 10/15\n",
            "60000/60000 [==============================] - 7s 124us/sample - loss: 0.0070 - acc: 0.9978\n",
            "Epoch 11/15\n",
            "60000/60000 [==============================] - 7s 120us/sample - loss: 0.0075 - acc: 0.9977\n",
            "Epoch 12/15\n",
            "60000/60000 [==============================] - 7s 120us/sample - loss: 0.0038 - acc: 0.9990\n",
            "Epoch 13/15\n",
            "60000/60000 [==============================] - 7s 120us/sample - loss: 0.0050 - acc: 0.9984\n",
            "Epoch 14/15\n",
            "60000/60000 [==============================] - 7s 121us/sample - loss: 0.0045 - acc: 0.9986\n",
            "Epoch 15/15\n",
            "60000/60000 [==============================] - 7s 119us/sample - loss: 0.0052 - acc: 0.9985\n"
          ],
          "name": "stdout"
        },
        {
          "output_type": "execute_result",
          "data": {
            "text/plain": [
              "<tensorflow.python.keras.callbacks.History at 0x7fd340fdf630>"
            ]
          },
          "metadata": {
            "tags": []
          },
          "execution_count": 24
        }
      ]
    },
    {
      "metadata": {
        "id": "mE41_VArlC-O",
        "colab_type": "code",
        "outputId": "19825862-4e3e-4e3b-9e91-02c15c4b53a9",
        "colab": {
          "base_uri": "https://localhost:8080/",
          "height": 51
        }
      },
      "cell_type": "code",
      "source": [
        "cnn_model.evaluate(X_test, y_test)"
      ],
      "execution_count": 25,
      "outputs": [
        {
          "output_type": "stream",
          "text": [
            "10000/10000 [==============================] - 1s 60us/sample - loss: 0.0414 - acc: 0.9921\n"
          ],
          "name": "stdout"
        },
        {
          "output_type": "execute_result",
          "data": {
            "text/plain": [
              "[0.041372382678946454, 0.9921]"
            ]
          },
          "metadata": {
            "tags": []
          },
          "execution_count": 25
        }
      ]
    },
    {
      "metadata": {
        "id": "kYxTqInRIr3E",
        "colab_type": "text"
      },
      "cell_type": "markdown",
      "source": [
        "CNN model is achieving an accuracy of 99.2% on the test set! "
      ]
    },
    {
      "metadata": {
        "id": "1B1fjheMd9MZ",
        "colab_type": "text"
      },
      "cell_type": "markdown",
      "source": [
        "Taking a random sample from the test, and running the the model."
      ]
    },
    {
      "metadata": {
        "id": "-Yl5rO2XI0iu",
        "colab_type": "code",
        "colab": {}
      },
      "cell_type": "code",
      "source": [
        "rand_test_samp = random.randint(1, 10000)"
      ],
      "execution_count": 0,
      "outputs": []
    },
    {
      "metadata": {
        "id": "Rocc6boEjUml",
        "colab_type": "code",
        "outputId": "6988258e-434b-42f9-f337-41a931be7b05",
        "colab": {
          "base_uri": "https://localhost:8080/",
          "height": 34
        }
      },
      "cell_type": "code",
      "source": [
        "rand_test_image = X_test[rand_test_samp]\n",
        "rand_test_image = rand_test_image.reshape(28,28)\n",
        "rand_test_label = y_test[rand_test_samp]\n",
        "print(\"The actual label of the sample test image is: {}\".format(rand_test_label))"
      ],
      "execution_count": 27,
      "outputs": [
        {
          "output_type": "stream",
          "text": [
            "The actual label of the sample test image is: 9\n"
          ],
          "name": "stdout"
        }
      ]
    },
    {
      "metadata": {
        "id": "e_5SPDYajy1T",
        "colab_type": "code",
        "outputId": "8f351e3d-7518-4ccc-ba31-06d567dce06c",
        "colab": {
          "base_uri": "https://localhost:8080/",
          "height": 281
        }
      },
      "cell_type": "code",
      "source": [
        "plt.imshow(rand_test_image)\n",
        "plt.title(\"Actual label of test image: {}\".format(rand_test_label))\n",
        "plt.show()"
      ],
      "execution_count": 28,
      "outputs": [
        {
          "output_type": "display_data",
          "data": {
            "image/png": "[encoded data removed]",
            "text/plain": [
              "<Figure size 432x288 with 1 Axes>"
            ]
          },
          "metadata": {
            "tags": []
          }
        }
      ]
    },
    {
      "metadata": {
        "id": "Ao17xCL2kVnB",
        "colab_type": "code",
        "outputId": "74977c62-96f7-4c04-98b2-a0c5788391da",
        "colab": {
          "base_uri": "https://localhost:8080/",
          "height": 51
        }
      },
      "cell_type": "code",
      "source": [
        "rand_test_image = rand_test_image.reshape(1, 28, 28, 1)\n",
        "rand_test_predicted_label = np.array(cnn_model.predict(rand_test_image)).argmax(axis=-1)[0]\n",
        "print(\"Predicted label of image: {}\".format(rand_test_predicted_label))\n",
        "if (rand_test_predicted_label == rand_test_label):\n",
        "  print(\"The model predicted the label correctly!\")\n",
        "else:\n",
        "  print(\"The model predicted the label incorrectly :(\")"
      ],
      "execution_count": 29,
      "outputs": [
        {
          "output_type": "stream",
          "text": [
            "Predicted label of image: 9\n",
            "The model predicted the label correctly!\n"
          ],
          "name": "stdout"
        }
      ]
    },
    {
      "metadata": {
        "id": "wR5PtgycmgzE",
        "colab_type": "text"
      },
      "cell_type": "markdown",
      "source": [
        "Importing a image of a figure 8 that I drew."
      ]
    },
    {
      "metadata": {
        "id": "kZgaMB3LsAKI",
        "colab_type": "code",
        "outputId": "54d16124-20f6-4bde-a520-e4901e7c3e5c",
        "colab": {
          "base_uri": "https://localhost:8080/",
          "height": 34
        }
      },
      "cell_type": "code",
      "source": [
        "drive.mount('/content/drive')"
      ],
      "execution_count": 72,
      "outputs": [
        {
          "output_type": "stream",
          "text": [
            "Drive already mounted at /content/drive; to attempt to forcibly remount, call drive.mount(\"/content/drive\", force_remount=True).\n"
          ],
          "name": "stdout"
        }
      ]
    },
    {
      "metadata": {
        "id": "MJgVodYZmvL6",
        "colab_type": "code",
        "colab": {}
      },
      "cell_type": "code",
      "source": [
        "fig_eight = Image.open(\"/content/drive/My Drive/mnist/figure_eight.png\")\n",
        "fig_seven_paint = Image.open(\"/content/drive/My Drive/mnist/figure_seven_paint_thick.png\").convert('L').resize((28,28), Image.NEAREST)"
      ],
      "execution_count": 0,
      "outputs": []
    },
    {
      "metadata": {
        "id": "-uExhilnDo84",
        "colab_type": "code",
        "outputId": "fc37d48e-1798-4581-8a76-dd069f0045c4",
        "colab": {
          "base_uri": "https://localhost:8080/",
          "height": 286
        }
      },
      "cell_type": "code",
      "source": [
        "~plt.imshow(fig_eight)"
      ],
      "execution_count": 32,
      "outputs": [
        {
          "output_type": "execute_result",
          "data": {
            "text/plain": [
              "<matplotlib.image.AxesImage at 0x7fd3408353c8>"
            ]
          },
          "metadata": {
            "tags": []
          },
          "execution_count": 32
        },
        {
          "output_type": "display_data",
          "data": {
            "image/png": "[encoded data removed]",
            "text/plain": [
              "<Figure size 432x288 with 1 Axes>"
            ]
          },
          "metadata": {
            "tags": []
          }
        }
      ]
    },
    {
      "metadata": {
        "id": "zCLODvMV0RBP",
        "colab_type": "code",
        "colab": {
          "base_uri": "https://localhost:8080/",
          "height": 286
        },
        "outputId": "9b18465e-2e0f-46f0-b239-ec201c0ac586"
      },
      "cell_type": "code",
      "source": [
        "plt.imshow(fig_seven_paint)"
      ],
      "execution_count": 75,
      "outputs": [
        {
          "output_type": "execute_result",
          "data": {
            "text/plain": [
              "<matplotlib.image.AxesImage at 0x7fd3403972e8>"
            ]
          },
          "metadata": {
            "tags": []
          },
          "execution_count": 75
        },
        {
          "output_type": "display_data",
          "data": {
            "image/png": "[encoded data removed]",
            "text/plain": [
              "<Figure size 432x288 with 1 Axes>"
            ]
          },
          "metadata": {
            "tags": []
          }
        }
      ]
    },
    {
      "metadata": {
        "id": "bgap5zHvnv5n",
        "colab_type": "code",
        "colab": {}
      },
      "cell_type": "code",
      "source": [
        ""
      ],
      "execution_count": 0,
      "outputs": []
    },
    {
      "metadata": {
        "id": "b0pkAPfdoJ26",
        "colab_type": "code",
        "outputId": "0ee7cd2c-7488-49ee-ecc2-08bb276e5a34",
        "colab": {
          "base_uri": "https://localhost:8080/",
          "height": 286
        }
      },
      "cell_type": "code",
      "source": [
        "plt.imshow(fig_eight_greyscale)"
      ],
      "execution_count": 34,
      "outputs": [
        {
          "output_type": "execute_result",
          "data": {
            "text/plain": [
              "<matplotlib.image.AxesImage at 0x7fd340793518>"
            ]
          },
          "metadata": {
            "tags": []
          },
          "execution_count": 34
        },
        {
          "output_type": "display_data",
          "data": {
            "image/png": "[encoded data removed]",
            "text/plain": [
              "<Figure size 432x288 with 1 Axes>"
            ]
          },
          "metadata": {
            "tags": []
          }
        }
      ]
    },
    {
      "metadata": {
        "id": "lDjRvYqaEtJ-",
        "colab_type": "text"
      },
      "cell_type": "markdown",
      "source": [
        ""
      ]
    },
    {
      "metadata": {
        "id": "D5LCevoYEe2n",
        "colab_type": "code",
        "colab": {}
      },
      "cell_type": "code",
      "source": [
        "np_fig_eight_greyscale = np.array(fig_eight_greyscale)"
      ],
      "execution_count": 0,
      "outputs": []
    },
    {
      "metadata": {
        "id": "2zBBG_DSEn-6",
        "colab_type": "code",
        "outputId": "37fbfb2d-8e71-4c76-9749-aa4ba0908747",
        "colab": {
          "base_uri": "https://localhost:8080/",
          "height": 34
        }
      },
      "cell_type": "code",
      "source": [
        "np_fig_eight_greyscale.shape"
      ],
      "execution_count": 36,
      "outputs": [
        {
          "output_type": "execute_result",
          "data": {
            "text/plain": [
              "(1025, 945)"
            ]
          },
          "metadata": {
            "tags": []
          },
          "execution_count": 36
        }
      ]
    },
    {
      "metadata": {
        "id": "kmNCkDhKFXV0",
        "colab_type": "code",
        "outputId": "62da41c4-4eb3-49f5-a55f-83a45f667960",
        "colab": {
          "base_uri": "https://localhost:8080/",
          "height": 286
        }
      },
      "cell_type": "code",
      "source": [
        "fig_eight_greyscale = fig_eight_greyscale.resize((28,28), Image.NEAREST)\n",
        "plt.imshow(fig_eight_greyscale)"
      ],
      "execution_count": 37,
      "outputs": [
        {
          "output_type": "execute_result",
          "data": {
            "text/plain": [
              "<matplotlib.image.AxesImage at 0x7fd340763f98>"
            ]
          },
          "metadata": {
            "tags": []
          },
          "execution_count": 37
        },
        {
          "output_type": "display_data",
          "data": {
            "image/png": "[encoded data removed]",
            "text/plain": [
              "<Figure size 432x288 with 1 Axes>"
            ]
          },
          "metadata": {
            "tags": []
          }
        }
      ]
    },
    {
      "metadata": {
        "id": "YN_xNXsFFooG",
        "colab_type": "code",
        "colab": {}
      },
      "cell_type": "code",
      "source": [
        "np_fig_eight_greyscale = np.array(fig_eight_greyscale)\n",
        "np_fig_seven = np .array(fig_seven_paint)"
      ],
      "execution_count": 0,
      "outputs": []
    },
    {
      "metadata": {
        "id": "DW8NtsN3FvWb",
        "colab_type": "code",
        "colab": {}
      },
      "cell_type": "code",
      "source": [
        "# print(\"The new shape of the figure eight image is {}\".format(np_fig_eight_greyscale.shape))\n",
        "# print(\"The type of the image is {}\".format(type(np_fig_eight_greyscale)))"
      ],
      "execution_count": 0,
      "outputs": []
    },
    {
      "metadata": {
        "id": "ndbnPmd3H2aU",
        "colab_type": "text"
      },
      "cell_type": "markdown",
      "source": [
        "TO DO: Need to process pixels so that they are on the same scale as the training data"
      ]
    },
    {
      "metadata": {
        "id": "V5s-7LdDF9Rm",
        "colab_type": "code",
        "colab": {
          "base_uri": "https://localhost:8080/",
          "height": 286
        },
        "outputId": "be50f854-a7af-4dec-d90e-0299d6d7f0b0"
      },
      "cell_type": "code",
      "source": [
        "plt.imshow(255 - np_fig_eight_greyscale)"
      ],
      "execution_count": 47,
      "outputs": [
        {
          "output_type": "execute_result",
          "data": {
            "text/plain": [
              "<matplotlib.image.AxesImage at 0x7fd3406c9fd0>"
            ]
          },
          "metadata": {
            "tags": []
          },
          "execution_count": 47
        },
        {
          "output_type": "display_data",
          "data": {
            "image/png": "[encoded data removed]",
            "text/plain": [
              "<Figure size 432x288 with 1 Axes>"
            ]
          },
          "metadata": {
            "tags": []
          }
        }
      ]
    },
    {
      "metadata": {
        "id": "MVsNbAfSHXkT",
        "colab_type": "code",
        "colab": {
          "base_uri": "https://localhost:8080/",
          "height": 68
        },
        "outputId": "9ad4d936-eab7-4889-ab93-834330ef969e"
      },
      "cell_type": "code",
      "source": [
        "np_fig_seven = np_fig_seven / 255.0\n",
        "np_fig_seven = np_fig_seven.reshape(1, 28, 28, 1)\n",
        "cnn_model.predict(np_fig_seven)"
      ],
      "execution_count": 77,
      "outputs": [
        {
          "output_type": "execute_result",
          "data": {
            "text/plain": [
              "array([[7.7354585e-22, 2.2943633e-12, 8.9779821e-14, 4.7274713e-15,\n",
              "        3.3120748e-22, 1.0901003e-22, 8.5116577e-24, 1.0000000e+00,\n",
              "        7.3303924e-19, 1.3099687e-17]], dtype=float32)"
            ]
          },
          "metadata": {
            "tags": []
          },
          "execution_count": 77
        }
      ]
    },
    {
      "metadata": {
        "id": "TdmBF_XkHcSh",
        "colab_type": "code",
        "colab": {}
      },
      "cell_type": "code",
      "source": [
        ""
      ],
      "execution_count": 0,
      "outputs": []
    }
  ]
}